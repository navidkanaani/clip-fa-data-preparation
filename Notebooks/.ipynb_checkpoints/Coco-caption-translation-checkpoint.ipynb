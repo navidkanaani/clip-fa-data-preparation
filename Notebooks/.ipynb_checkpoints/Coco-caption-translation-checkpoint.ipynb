{
 "cells": [
  {
   "cell_type": "markdown",
   "metadata": {
    "id": "NbsHoUfLsUTR"
   },
   "source": [
    "# MS-COCO image captioning persian version translation\n",
    "\n",
    "[Dataset page](https://www.kaggle.com/awsaf49/coco-2017-dataset)"
   ]
  },
  {
   "cell_type": "code",
   "execution_count": null,
   "metadata": {
    "colab": {
     "base_uri": "https://localhost:8080/"
    },
    "id": "xdx6w5QQfGIX",
    "outputId": "bf267ace-2a84-414d-92a7-308097a2d8ef"
   },
   "outputs": [
    {
     "name": "stdout",
     "output_type": "stream",
     "text": [
      "--2021-12-13 06:53:52--  http://images.cocodataset.org/annotations/annotations_trainval2017.zip\n",
      "Resolving images.cocodataset.org (images.cocodataset.org)... 52.216.25.156\n",
      "Connecting to images.cocodataset.org (images.cocodataset.org)|52.216.25.156|:80... connected.\n",
      "HTTP request sent, awaiting response... 200 OK\n",
      "Length: 252907541 (241M) [application/zip]\n",
      "Saving to: ‘annotations_trainval2017.zip’\n",
      "\n",
      "annotations_trainva 100%[===================>] 241.19M  15.4MB/s    in 17s     \n",
      "\n",
      "2021-12-13 06:54:09 (13.9 MB/s) - ‘annotations_trainval2017.zip’ saved [252907541/252907541]\n",
      "\n"
     ]
    }
   ],
   "source": [
    "# !wget http://images.cocodataset.org/annotations/annotations_trainval2017.zip"
   ]
  },
  {
   "cell_type": "code",
   "execution_count": null,
   "metadata": {
    "colab": {
     "base_uri": "https://localhost:8080/"
    },
    "id": "sHt46W6Lx-c-",
    "outputId": "8d0a0758-6e30-4cf8-93e4-9ed4f4986af4"
   },
   "outputs": [
    {
     "name": "stdout",
     "output_type": "stream",
     "text": [
      "Archive:  ./annotations_trainval2017.zip\n",
      "  inflating: coco_dataset/annotations/instances_train2017.json  \n",
      "  inflating: coco_dataset/annotations/instances_val2017.json  \n",
      "  inflating: coco_dataset/annotations/captions_train2017.json  \n",
      "  inflating: coco_dataset/annotations/captions_val2017.json  \n",
      "  inflating: coco_dataset/annotations/person_keypoints_train2017.json  \n",
      "  inflating: coco_dataset/annotations/person_keypoints_val2017.json  \n"
     ]
    }
   ],
   "source": [
    "# !unzip ./annotations_trainval2017 -d coco_dataset"
   ]
  },
  {
   "cell_type": "code",
   "execution_count": 1,
   "metadata": {
    "id": "srGDOzQGyP7B"
   },
   "outputs": [],
   "source": [
    "import pandas as pd\n",
    "import numpy as np\n",
    "import json\n",
    "import random"
   ]
  },
  {
   "cell_type": "markdown",
   "metadata": {
    "id": "3K8FTcsLjVDz"
   },
   "source": [
    "# Data\n",
    "\n",
    "### Prepare data to be translated"
   ]
  },
  {
   "cell_type": "code",
   "execution_count": null,
   "metadata": {
    "id": "mOZ4MC08zLaf"
   },
   "outputs": [],
   "source": [
    "json_file = open(\"/content/coco_dataset/annotations/captions_train2017.json\")\n",
    "parsed_js = json.load(json_file)\n",
    "json_file.close()"
   ]
  },
  {
   "cell_type": "code",
   "execution_count": null,
   "metadata": {
    "colab": {
     "base_uri": "https://localhost:8080/"
    },
    "id": "bXx7BL_84llf",
    "outputId": "fa91ea8a-7a0c-483e-a294-d754438c63d7"
   },
   "outputs": [
    {
     "data": {
      "text/plain": [
       "dict_keys(['info', 'licenses', 'images', 'annotations'])"
      ]
     },
     "execution_count": 5,
     "metadata": {},
     "output_type": "execute_result"
    }
   ],
   "source": [
    "parsed_js.keys()"
   ]
  },
  {
   "cell_type": "code",
   "execution_count": null,
   "metadata": {
    "colab": {
     "base_uri": "https://localhost:8080/"
    },
    "id": "pXwxZDVU4cr6",
    "outputId": "5c670945-1c4f-4a06-fc02-5126536517bb"
   },
   "outputs": [
    {
     "name": "stdout",
     "output_type": "stream",
     "text": [
      "<class 'pandas.core.frame.DataFrame'>\n",
      "RangeIndex: 591753 entries, 0 to 591752\n",
      "Data columns (total 3 columns):\n",
      " #   Column    Non-Null Count   Dtype \n",
      "---  ------    --------------   ----- \n",
      " 0   image_id  591753 non-null  int64 \n",
      " 1   id        591753 non-null  int64 \n",
      " 2   caption   591753 non-null  object\n",
      "dtypes: int64(2), object(1)\n",
      "memory usage: 13.5+ MB\n"
     ]
    }
   ],
   "source": [
    "caption_ds = pd.DataFrame(parsed_js['annotations'])\n",
    "caption_ds.info()"
   ]
  },
  {
   "cell_type": "code",
   "execution_count": null,
   "metadata": {
    "colab": {
     "base_uri": "https://localhost:8080/",
     "height": 424
    },
    "id": "-15AXYKAzSjZ",
    "outputId": "2aafc9bb-2838-4d07-e457-48cdddd08b00"
   },
   "outputs": [
    {
     "data": {
      "text/html": [
       "<div>\n",
       "<style scoped>\n",
       "    .dataframe tbody tr th:only-of-type {\n",
       "        vertical-align: middle;\n",
       "    }\n",
       "\n",
       "    .dataframe tbody tr th {\n",
       "        vertical-align: top;\n",
       "    }\n",
       "\n",
       "    .dataframe thead th {\n",
       "        text-align: right;\n",
       "    }\n",
       "</style>\n",
       "<table border=\"1\" class=\"dataframe\">\n",
       "  <thead>\n",
       "    <tr style=\"text-align: right;\">\n",
       "      <th></th>\n",
       "      <th>image_id</th>\n",
       "      <th>id</th>\n",
       "      <th>caption</th>\n",
       "    </tr>\n",
       "  </thead>\n",
       "  <tbody>\n",
       "    <tr>\n",
       "      <th>0</th>\n",
       "      <td>203564</td>\n",
       "      <td>37</td>\n",
       "      <td>A bicycle replica with a clock as the front wh...</td>\n",
       "    </tr>\n",
       "    <tr>\n",
       "      <th>1</th>\n",
       "      <td>322141</td>\n",
       "      <td>49</td>\n",
       "      <td>A room with blue walls and a white sink and door.</td>\n",
       "    </tr>\n",
       "    <tr>\n",
       "      <th>2</th>\n",
       "      <td>16977</td>\n",
       "      <td>89</td>\n",
       "      <td>A car that seems to be parked illegally behind...</td>\n",
       "    </tr>\n",
       "    <tr>\n",
       "      <th>3</th>\n",
       "      <td>106140</td>\n",
       "      <td>98</td>\n",
       "      <td>A large passenger airplane flying through the ...</td>\n",
       "    </tr>\n",
       "    <tr>\n",
       "      <th>4</th>\n",
       "      <td>106140</td>\n",
       "      <td>101</td>\n",
       "      <td>There is a GOL plane taking off in a partly cl...</td>\n",
       "    </tr>\n",
       "    <tr>\n",
       "      <th>...</th>\n",
       "      <td>...</td>\n",
       "      <td>...</td>\n",
       "      <td>...</td>\n",
       "    </tr>\n",
       "    <tr>\n",
       "      <th>591748</th>\n",
       "      <td>133071</td>\n",
       "      <td>829655</td>\n",
       "      <td>a slice of bread is covered with a sour cream ...</td>\n",
       "    </tr>\n",
       "    <tr>\n",
       "      <th>591749</th>\n",
       "      <td>410182</td>\n",
       "      <td>829658</td>\n",
       "      <td>A long plate hold some fries with some sliders...</td>\n",
       "    </tr>\n",
       "    <tr>\n",
       "      <th>591750</th>\n",
       "      <td>180285</td>\n",
       "      <td>829665</td>\n",
       "      <td>Two women sit and pose with stuffed animals.</td>\n",
       "    </tr>\n",
       "    <tr>\n",
       "      <th>591751</th>\n",
       "      <td>133071</td>\n",
       "      <td>829693</td>\n",
       "      <td>White Plate with a lot of guacamole and an ext...</td>\n",
       "    </tr>\n",
       "    <tr>\n",
       "      <th>591752</th>\n",
       "      <td>133071</td>\n",
       "      <td>829717</td>\n",
       "      <td>A dinner plate has a lemon wedge garnishment.</td>\n",
       "    </tr>\n",
       "  </tbody>\n",
       "</table>\n",
       "<p>591753 rows × 3 columns</p>\n",
       "</div>"
      ],
      "text/plain": [
       "        image_id      id                                            caption\n",
       "0         203564      37  A bicycle replica with a clock as the front wh...\n",
       "1         322141      49  A room with blue walls and a white sink and door.\n",
       "2          16977      89  A car that seems to be parked illegally behind...\n",
       "3         106140      98  A large passenger airplane flying through the ...\n",
       "4         106140     101  There is a GOL plane taking off in a partly cl...\n",
       "...          ...     ...                                                ...\n",
       "591748    133071  829655  a slice of bread is covered with a sour cream ...\n",
       "591749    410182  829658  A long plate hold some fries with some sliders...\n",
       "591750    180285  829665       Two women sit and pose with stuffed animals.\n",
       "591751    133071  829693  White Plate with a lot of guacamole and an ext...\n",
       "591752    133071  829717      A dinner plate has a lemon wedge garnishment.\n",
       "\n",
       "[591753 rows x 3 columns]"
      ]
     },
     "execution_count": 10,
     "metadata": {},
     "output_type": "execute_result"
    }
   ],
   "source": [
    "caption_ds"
   ]
  },
  {
   "cell_type": "code",
   "execution_count": null,
   "metadata": {
    "colab": {
     "base_uri": "https://localhost:8080/"
    },
    "id": "0i9SxT2v4ud7",
    "outputId": "e2f1e97d-2948-4a6d-ecb8-e48ad52318fa"
   },
   "outputs": [
    {
     "data": {
      "text/plain": [
       "52109     7\n",
       "23247     7\n",
       "336464    7\n",
       "279818    6\n",
       "476074    6\n",
       "         ..\n",
       "372193    5\n",
       "368103    5\n",
       "392683    5\n",
       "333302    5\n",
       "8196      5\n",
       "Name: image_id, Length: 118287, dtype: int64"
      ]
     },
     "execution_count": 8,
     "metadata": {},
     "output_type": "execute_result"
    }
   ],
   "source": [
    "caption_ds['image_id'].value_counts()"
   ]
  },
  {
   "cell_type": "code",
   "execution_count": null,
   "metadata": {
    "colab": {
     "base_uri": "https://localhost:8080/",
     "height": 35
    },
    "id": "QDWSbwrTl4zB",
    "outputId": "f781d03b-fae4-4635-c4fb-d3482647824a"
   },
   "outputs": [
    {
     "data": {
      "application/vnd.google.colaboratory.intrinsic+json": {
       "type": "string"
      },
      "text/plain": [
       "'Three teenagers play tennis on a court surrounded by greenery.'"
      ]
     },
     "execution_count": 28,
     "metadata": {},
     "output_type": "execute_result"
    }
   ],
   "source": [
    "np.random.choice(np.array(caption_ds.loc[caption_ds['image_id'] == 52109].caption))"
   ]
  },
  {
   "cell_type": "code",
   "execution_count": null,
   "metadata": {
    "colab": {
     "base_uri": "https://localhost:8080/",
     "height": 206
    },
    "id": "5CypUy_xmHSA",
    "outputId": "72689e3c-38d7-489e-f0a0-1a50946a9625"
   },
   "outputs": [
    {
     "data": {
      "text/html": [
       "<div>\n",
       "<style scoped>\n",
       "    .dataframe tbody tr th:only-of-type {\n",
       "        vertical-align: middle;\n",
       "    }\n",
       "\n",
       "    .dataframe tbody tr th {\n",
       "        vertical-align: top;\n",
       "    }\n",
       "\n",
       "    .dataframe thead th {\n",
       "        text-align: right;\n",
       "    }\n",
       "</style>\n",
       "<table border=\"1\" class=\"dataframe\">\n",
       "  <thead>\n",
       "    <tr style=\"text-align: right;\">\n",
       "      <th></th>\n",
       "      <th>image_id</th>\n",
       "      <th>id</th>\n",
       "      <th>caption</th>\n",
       "    </tr>\n",
       "  </thead>\n",
       "  <tbody>\n",
       "    <tr>\n",
       "      <th>591748</th>\n",
       "      <td>133071</td>\n",
       "      <td>829655</td>\n",
       "      <td>a slice of bread is covered with a sour cream ...</td>\n",
       "    </tr>\n",
       "    <tr>\n",
       "      <th>591749</th>\n",
       "      <td>410182</td>\n",
       "      <td>829658</td>\n",
       "      <td>A long plate hold some fries with some sliders...</td>\n",
       "    </tr>\n",
       "    <tr>\n",
       "      <th>591750</th>\n",
       "      <td>180285</td>\n",
       "      <td>829665</td>\n",
       "      <td>Two women sit and pose with stuffed animals.</td>\n",
       "    </tr>\n",
       "    <tr>\n",
       "      <th>591751</th>\n",
       "      <td>133071</td>\n",
       "      <td>829693</td>\n",
       "      <td>White Plate with a lot of guacamole and an ext...</td>\n",
       "    </tr>\n",
       "    <tr>\n",
       "      <th>591752</th>\n",
       "      <td>133071</td>\n",
       "      <td>829717</td>\n",
       "      <td>A dinner plate has a lemon wedge garnishment.</td>\n",
       "    </tr>\n",
       "  </tbody>\n",
       "</table>\n",
       "</div>"
      ],
      "text/plain": [
       "        image_id      id                                            caption\n",
       "591748    133071  829655  a slice of bread is covered with a sour cream ...\n",
       "591749    410182  829658  A long plate hold some fries with some sliders...\n",
       "591750    180285  829665       Two women sit and pose with stuffed animals.\n",
       "591751    133071  829693  White Plate with a lot of guacamole and an ext...\n",
       "591752    133071  829717      A dinner plate has a lemon wedge garnishment."
      ]
     },
     "execution_count": 13,
     "metadata": {},
     "output_type": "execute_result"
    }
   ],
   "source": [
    "caption_ds.tail()"
   ]
  },
  {
   "cell_type": "code",
   "execution_count": null,
   "metadata": {
    "colab": {
     "base_uri": "https://localhost:8080/"
    },
    "id": "G9LTKjP-wKPY",
    "outputId": "4e346e7e-a4c9-489b-f1a2-a24fd4772f04"
   },
   "outputs": [
    {
     "data": {
      "text/plain": [
       "118287"
      ]
     },
     "execution_count": 20,
     "metadata": {},
     "output_type": "execute_result"
    }
   ],
   "source": [
    "# find unique image_ids\n",
    "unique_ids = np.unique(caption_ds['image_id'])\n",
    "len(unique_ids)"
   ]
  },
  {
   "cell_type": "code",
   "execution_count": null,
   "metadata": {
    "id": "WiIq4ugp6mE_"
   },
   "outputs": [],
   "source": [
    "# Pick a random caption from each image's captions\n",
    "def randomPick(image_id):\n",
    "  \"\"\"\n",
    "  Given an image_id choose a caption among its annotated captions randomly.\n",
    "  \"\"\"\n",
    "  correspond_captions = np.array(caption_ds.loc[caption_ds['image_id'] == image_id].caption) # Find image related captions.\n",
    "  picked_cap = random.choice(correspond_captions) # choose a random caption\n",
    "  return picked_cap\n",
    "\n",
    "# Define a list that will be contained image_ids and there corresponding randomly choosed caption.\n",
    "picked_ds = []\n",
    "for image_id in unique_ids:\n",
    "  caption = randomPick(image_id)\n",
    "  picked_ds.append(dict({'image_id': image_id, 'caption': caption})) # append it to list"
   ]
  },
  {
   "cell_type": "code",
   "execution_count": null,
   "metadata": {
    "id": "_WtQ2VR41nzf"
   },
   "outputs": [],
   "source": [
    "picked_ds"
   ]
  },
  {
   "cell_type": "code",
   "execution_count": null,
   "metadata": {
    "colab": {
     "base_uri": "https://localhost:8080/",
     "height": 424
    },
    "id": "ien6ashc0XRm",
    "outputId": "a641df60-d94d-4808-a580-0d22d894fe18"
   },
   "outputs": [
    {
     "data": {
      "text/html": [
       "<div>\n",
       "<style scoped>\n",
       "    .dataframe tbody tr th:only-of-type {\n",
       "        vertical-align: middle;\n",
       "    }\n",
       "\n",
       "    .dataframe tbody tr th {\n",
       "        vertical-align: top;\n",
       "    }\n",
       "\n",
       "    .dataframe thead th {\n",
       "        text-align: right;\n",
       "    }\n",
       "</style>\n",
       "<table border=\"1\" class=\"dataframe\">\n",
       "  <thead>\n",
       "    <tr style=\"text-align: right;\">\n",
       "      <th></th>\n",
       "      <th>image_id</th>\n",
       "      <th>caption</th>\n",
       "    </tr>\n",
       "  </thead>\n",
       "  <tbody>\n",
       "    <tr>\n",
       "      <th>0</th>\n",
       "      <td>9</td>\n",
       "      <td>Closeup of bins of food that include broccoli ...</td>\n",
       "    </tr>\n",
       "    <tr>\n",
       "      <th>1</th>\n",
       "      <td>25</td>\n",
       "      <td>A giraffe eating food from the top of the tree.</td>\n",
       "    </tr>\n",
       "    <tr>\n",
       "      <th>2</th>\n",
       "      <td>30</td>\n",
       "      <td>A flower vase is sitting on a porch stand.</td>\n",
       "    </tr>\n",
       "    <tr>\n",
       "      <th>3</th>\n",
       "      <td>34</td>\n",
       "      <td>The zebra is eating grass in the sun.</td>\n",
       "    </tr>\n",
       "    <tr>\n",
       "      <th>4</th>\n",
       "      <td>36</td>\n",
       "      <td>A woman posing for the camera, holding a pink,...</td>\n",
       "    </tr>\n",
       "    <tr>\n",
       "      <th>...</th>\n",
       "      <td>...</td>\n",
       "      <td>...</td>\n",
       "    </tr>\n",
       "    <tr>\n",
       "      <th>118282</th>\n",
       "      <td>581906</td>\n",
       "      <td>A damaged, leather suit case sitting on a dirt...</td>\n",
       "    </tr>\n",
       "    <tr>\n",
       "      <th>118283</th>\n",
       "      <td>581909</td>\n",
       "      <td>An old boat sits on a trailer hitch.</td>\n",
       "    </tr>\n",
       "    <tr>\n",
       "      <th>118284</th>\n",
       "      <td>581913</td>\n",
       "      <td>A group of donuts sitting in a box.</td>\n",
       "    </tr>\n",
       "    <tr>\n",
       "      <th>118285</th>\n",
       "      <td>581921</td>\n",
       "      <td>A man riding an orange snow board jumping off ...</td>\n",
       "    </tr>\n",
       "    <tr>\n",
       "      <th>118286</th>\n",
       "      <td>581929</td>\n",
       "      <td>Two horses are grazing in a green field.</td>\n",
       "    </tr>\n",
       "  </tbody>\n",
       "</table>\n",
       "<p>118287 rows × 2 columns</p>\n",
       "</div>"
      ],
      "text/plain": [
       "        image_id                                            caption\n",
       "0              9  Closeup of bins of food that include broccoli ...\n",
       "1             25    A giraffe eating food from the top of the tree.\n",
       "2             30         A flower vase is sitting on a porch stand.\n",
       "3             34              The zebra is eating grass in the sun.\n",
       "4             36  A woman posing for the camera, holding a pink,...\n",
       "...          ...                                                ...\n",
       "118282    581906  A damaged, leather suit case sitting on a dirt...\n",
       "118283    581909               An old boat sits on a trailer hitch.\n",
       "118284    581913                A group of donuts sitting in a box.\n",
       "118285    581921  A man riding an orange snow board jumping off ...\n",
       "118286    581929           Two horses are grazing in a green field.\n",
       "\n",
       "[118287 rows x 2 columns]"
      ]
     },
     "execution_count": 36,
     "metadata": {},
     "output_type": "execute_result"
    }
   ],
   "source": [
    "df = pd.DataFrame(picked_ds)\n",
    "df"
   ]
  },
  {
   "cell_type": "code",
   "execution_count": null,
   "metadata": {
    "id": "qGZ8fh2e2scV"
   },
   "outputs": [],
   "source": [
    "df.to_csv(\"./coco_selected.cvs\", index=False)"
   ]
  },
  {
   "cell_type": "code",
   "execution_count": null,
   "metadata": {
    "id": "DIic9BgK228Y"
   },
   "outputs": [],
   "source": [
    "caption_ds.to_csv(\"/content/drive/MyDrive/Coco/coco_captions_original.csv\", index=False)118"
   ]
  },
  {
   "cell_type": "markdown",
   "metadata": {
    "id": "GisdYG663VKs"
   },
   "source": [
    "# Translation\n",
    "Working on selected captions: \n",
    "\n",
    "* split them into some chunks, then translate chunks one by one."
   ]
  },
  {
   "cell_type": "code",
   "execution_count": 3,
   "metadata": {
    "colab": {
     "base_uri": "https://localhost:8080/",
     "height": 424
    },
    "id": "u1XphilJjSSW",
    "outputId": "6a8efa3a-a4e6-43a6-ca5d-5ba20e1ff667"
   },
   "outputs": [
    {
     "data": {
      "text/html": [
       "<div>\n",
       "<style scoped>\n",
       "    .dataframe tbody tr th:only-of-type {\n",
       "        vertical-align: middle;\n",
       "    }\n",
       "\n",
       "    .dataframe tbody tr th {\n",
       "        vertical-align: top;\n",
       "    }\n",
       "\n",
       "    .dataframe thead th {\n",
       "        text-align: right;\n",
       "    }\n",
       "</style>\n",
       "<table border=\"1\" class=\"dataframe\">\n",
       "  <thead>\n",
       "    <tr style=\"text-align: right;\">\n",
       "      <th></th>\n",
       "      <th>image_id</th>\n",
       "      <th>caption</th>\n",
       "    </tr>\n",
       "  </thead>\n",
       "  <tbody>\n",
       "    <tr>\n",
       "      <th>0</th>\n",
       "      <td>9</td>\n",
       "      <td>Closeup of bins of food that include broccoli ...</td>\n",
       "    </tr>\n",
       "    <tr>\n",
       "      <th>1</th>\n",
       "      <td>25</td>\n",
       "      <td>A giraffe eating food from the top of the tree.</td>\n",
       "    </tr>\n",
       "    <tr>\n",
       "      <th>2</th>\n",
       "      <td>30</td>\n",
       "      <td>A flower vase is sitting on a porch stand.</td>\n",
       "    </tr>\n",
       "    <tr>\n",
       "      <th>3</th>\n",
       "      <td>34</td>\n",
       "      <td>The zebra is eating grass in the sun.</td>\n",
       "    </tr>\n",
       "    <tr>\n",
       "      <th>4</th>\n",
       "      <td>36</td>\n",
       "      <td>A woman posing for the camera, holding a pink,...</td>\n",
       "    </tr>\n",
       "    <tr>\n",
       "      <th>...</th>\n",
       "      <td>...</td>\n",
       "      <td>...</td>\n",
       "    </tr>\n",
       "    <tr>\n",
       "      <th>118282</th>\n",
       "      <td>581906</td>\n",
       "      <td>A damaged, leather suit case sitting on a dirt...</td>\n",
       "    </tr>\n",
       "    <tr>\n",
       "      <th>118283</th>\n",
       "      <td>581909</td>\n",
       "      <td>An old boat sits on a trailer hitch.</td>\n",
       "    </tr>\n",
       "    <tr>\n",
       "      <th>118284</th>\n",
       "      <td>581913</td>\n",
       "      <td>A group of donuts sitting in a box.</td>\n",
       "    </tr>\n",
       "    <tr>\n",
       "      <th>118285</th>\n",
       "      <td>581921</td>\n",
       "      <td>A man riding an orange snow board jumping off ...</td>\n",
       "    </tr>\n",
       "    <tr>\n",
       "      <th>118286</th>\n",
       "      <td>581929</td>\n",
       "      <td>Two horses are grazing in a green field.</td>\n",
       "    </tr>\n",
       "  </tbody>\n",
       "</table>\n",
       "<p>118287 rows × 2 columns</p>\n",
       "</div>"
      ],
      "text/plain": [
       "        image_id                                            caption\n",
       "0              9  Closeup of bins of food that include broccoli ...\n",
       "1             25    A giraffe eating food from the top of the tree.\n",
       "2             30         A flower vase is sitting on a porch stand.\n",
       "3             34              The zebra is eating grass in the sun.\n",
       "4             36  A woman posing for the camera, holding a pink,...\n",
       "...          ...                                                ...\n",
       "118282    581906  A damaged, leather suit case sitting on a dirt...\n",
       "118283    581909               An old boat sits on a trailer hitch.\n",
       "118284    581913                A group of donuts sitting in a box.\n",
       "118285    581921  A man riding an orange snow board jumping off ...\n",
       "118286    581929           Two horses are grazing in a green field.\n",
       "\n",
       "[118287 rows x 2 columns]"
      ]
     },
     "execution_count": 3,
     "metadata": {},
     "output_type": "execute_result"
    }
   ],
   "source": [
    "# Read selected csv\n",
    "df = pd.read_csv('/home/kaen/Projects/Datasets//Coco/coco_selected.cvs')\n",
    "df"
   ]
  },
  {
   "cell_type": "code",
   "execution_count": null,
   "metadata": {
    "id": "GZRPOphwkGLl"
   },
   "outputs": [],
   "source": []
  }
 ],
 "metadata": {
  "colab": {
   "name": "coco_fa.ipynb",
   "provenance": []
  },
  "kernelspec": {
   "display_name": "Python 3 (ipykernel)",
   "language": "python",
   "name": "python3"
  },
  "language_info": {
   "codemirror_mode": {
    "name": "ipython",
    "version": 3
   },
   "file_extension": ".py",
   "mimetype": "text/x-python",
   "name": "python",
   "nbconvert_exporter": "python",
   "pygments_lexer": "ipython3",
   "version": "3.8.10"
  }
 },
 "nbformat": 4,
 "nbformat_minor": 1
}
