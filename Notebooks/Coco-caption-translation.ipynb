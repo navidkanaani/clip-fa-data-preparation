{
 "cells": [
  {
   "cell_type": "markdown",
   "metadata": {
    "id": "NbsHoUfLsUTR"
   },
   "source": [
    "# MS-COCO image captioning persian version translation\n",
    "\n",
    "[Dataset page](https://www.kaggle.com/awsaf49/coco-2017-dataset)"
   ]
  },
  {
   "cell_type": "code",
   "execution_count": null,
   "metadata": {
    "colab": {
     "base_uri": "https://localhost:8080/"
    },
    "id": "xdx6w5QQfGIX",
    "outputId": "bf267ace-2a84-414d-92a7-308097a2d8ef"
   },
   "outputs": [
    {
     "name": "stdout",
     "output_type": "stream",
     "text": [
      "--2021-12-13 06:53:52--  http://images.cocodataset.org/annotations/annotations_trainval2017.zip\n",
      "Resolving images.cocodataset.org (images.cocodataset.org)... 52.216.25.156\n",
      "Connecting to images.cocodataset.org (images.cocodataset.org)|52.216.25.156|:80... connected.\n",
      "HTTP request sent, awaiting response... 200 OK\n",
      "Length: 252907541 (241M) [application/zip]\n",
      "Saving to: ‘annotations_trainval2017.zip’\n",
      "\n",
      "annotations_trainva 100%[===================>] 241.19M  15.4MB/s    in 17s     \n",
      "\n",
      "2021-12-13 06:54:09 (13.9 MB/s) - ‘annotations_trainval2017.zip’ saved [252907541/252907541]\n",
      "\n"
     ]
    }
   ],
   "source": [
    "# !wget http://images.cocodataset.org/annotations/annotations_trainval2017.zip"
   ]
  },
  {
   "cell_type": "code",
   "execution_count": null,
   "metadata": {
    "colab": {
     "base_uri": "https://localhost:8080/"
    },
    "id": "sHt46W6Lx-c-",
    "outputId": "8d0a0758-6e30-4cf8-93e4-9ed4f4986af4"
   },
   "outputs": [
    {
     "name": "stdout",
     "output_type": "stream",
     "text": [
      "Archive:  ./annotations_trainval2017.zip\n",
      "  inflating: coco_dataset/annotations/instances_train2017.json  \n",
      "  inflating: coco_dataset/annotations/instances_val2017.json  \n",
      "  inflating: coco_dataset/annotations/captions_train2017.json  \n",
      "  inflating: coco_dataset/annotations/captions_val2017.json  \n",
      "  inflating: coco_dataset/annotations/person_keypoints_train2017.json  \n",
      "  inflating: coco_dataset/annotations/person_keypoints_val2017.json  \n"
     ]
    }
   ],
   "source": [
    "# !unzip ./annotations_trainval2017 -d coco_dataset"
   ]
  },
  {
   "cell_type": "code",
   "execution_count": 4,
   "metadata": {},
   "outputs": [],
   "source": [
    "!pip install -q sentence_transformers\n",
    "!pip install -q mtranslate"
   ]
  },
  {
   "cell_type": "code",
   "execution_count": 5,
   "metadata": {
    "id": "srGDOzQGyP7B"
   },
   "outputs": [],
   "source": [
    "import pandas as pd\n",
    "import numpy as np\n",
    "import json\n",
    "import random\n",
    "\n",
    "from sentence_transformers import SentenceTransformer\n",
    "from mtranslate import translate\n",
    "from tqdm import tqdm\n",
    "import torch"
   ]
  },
  {
   "cell_type": "markdown",
   "metadata": {
    "id": "3K8FTcsLjVDz"
   },
   "source": [
    "# Data\n",
    "\n",
    "### Prepare data to be translated"
   ]
  },
  {
   "cell_type": "code",
   "execution_count": null,
   "metadata": {
    "id": "mOZ4MC08zLaf"
   },
   "outputs": [],
   "source": [
    "json_file = open(\"/content/coco_dataset/annotations/captions_train2017.json\")\n",
    "parsed_js = json.load(json_file)\n",
    "json_file.close()"
   ]
  },
  {
   "cell_type": "code",
   "execution_count": null,
   "metadata": {
    "colab": {
     "base_uri": "https://localhost:8080/"
    },
    "id": "bXx7BL_84llf",
    "outputId": "fa91ea8a-7a0c-483e-a294-d754438c63d7"
   },
   "outputs": [
    {
     "data": {
      "text/plain": [
       "dict_keys(['info', 'licenses', 'images', 'annotations'])"
      ]
     },
     "execution_count": 5,
     "metadata": {},
     "output_type": "execute_result"
    }
   ],
   "source": [
    "parsed_js.keys()"
   ]
  },
  {
   "cell_type": "code",
   "execution_count": null,
   "metadata": {
    "colab": {
     "base_uri": "https://localhost:8080/"
    },
    "id": "pXwxZDVU4cr6",
    "outputId": "5c670945-1c4f-4a06-fc02-5126536517bb"
   },
   "outputs": [
    {
     "name": "stdout",
     "output_type": "stream",
     "text": [
      "<class 'pandas.core.frame.DataFrame'>\n",
      "RangeIndex: 591753 entries, 0 to 591752\n",
      "Data columns (total 3 columns):\n",
      " #   Column    Non-Null Count   Dtype \n",
      "---  ------    --------------   ----- \n",
      " 0   image_id  591753 non-null  int64 \n",
      " 1   id        591753 non-null  int64 \n",
      " 2   caption   591753 non-null  object\n",
      "dtypes: int64(2), object(1)\n",
      "memory usage: 13.5+ MB\n"
     ]
    }
   ],
   "source": [
    "caption_ds = pd.DataFrame(parsed_js['annotations'])\n",
    "caption_ds.info()"
   ]
  },
  {
   "cell_type": "code",
   "execution_count": null,
   "metadata": {
    "colab": {
     "base_uri": "https://localhost:8080/",
     "height": 424
    },
    "id": "-15AXYKAzSjZ",
    "outputId": "2aafc9bb-2838-4d07-e457-48cdddd08b00"
   },
   "outputs": [
    {
     "data": {
      "text/html": [
       "<div>\n",
       "<style scoped>\n",
       "    .dataframe tbody tr th:only-of-type {\n",
       "        vertical-align: middle;\n",
       "    }\n",
       "\n",
       "    .dataframe tbody tr th {\n",
       "        vertical-align: top;\n",
       "    }\n",
       "\n",
       "    .dataframe thead th {\n",
       "        text-align: right;\n",
       "    }\n",
       "</style>\n",
       "<table border=\"1\" class=\"dataframe\">\n",
       "  <thead>\n",
       "    <tr style=\"text-align: right;\">\n",
       "      <th></th>\n",
       "      <th>image_id</th>\n",
       "      <th>id</th>\n",
       "      <th>caption</th>\n",
       "    </tr>\n",
       "  </thead>\n",
       "  <tbody>\n",
       "    <tr>\n",
       "      <th>0</th>\n",
       "      <td>203564</td>\n",
       "      <td>37</td>\n",
       "      <td>A bicycle replica with a clock as the front wh...</td>\n",
       "    </tr>\n",
       "    <tr>\n",
       "      <th>1</th>\n",
       "      <td>322141</td>\n",
       "      <td>49</td>\n",
       "      <td>A room with blue walls and a white sink and door.</td>\n",
       "    </tr>\n",
       "    <tr>\n",
       "      <th>2</th>\n",
       "      <td>16977</td>\n",
       "      <td>89</td>\n",
       "      <td>A car that seems to be parked illegally behind...</td>\n",
       "    </tr>\n",
       "    <tr>\n",
       "      <th>3</th>\n",
       "      <td>106140</td>\n",
       "      <td>98</td>\n",
       "      <td>A large passenger airplane flying through the ...</td>\n",
       "    </tr>\n",
       "    <tr>\n",
       "      <th>4</th>\n",
       "      <td>106140</td>\n",
       "      <td>101</td>\n",
       "      <td>There is a GOL plane taking off in a partly cl...</td>\n",
       "    </tr>\n",
       "    <tr>\n",
       "      <th>...</th>\n",
       "      <td>...</td>\n",
       "      <td>...</td>\n",
       "      <td>...</td>\n",
       "    </tr>\n",
       "    <tr>\n",
       "      <th>591748</th>\n",
       "      <td>133071</td>\n",
       "      <td>829655</td>\n",
       "      <td>a slice of bread is covered with a sour cream ...</td>\n",
       "    </tr>\n",
       "    <tr>\n",
       "      <th>591749</th>\n",
       "      <td>410182</td>\n",
       "      <td>829658</td>\n",
       "      <td>A long plate hold some fries with some sliders...</td>\n",
       "    </tr>\n",
       "    <tr>\n",
       "      <th>591750</th>\n",
       "      <td>180285</td>\n",
       "      <td>829665</td>\n",
       "      <td>Two women sit and pose with stuffed animals.</td>\n",
       "    </tr>\n",
       "    <tr>\n",
       "      <th>591751</th>\n",
       "      <td>133071</td>\n",
       "      <td>829693</td>\n",
       "      <td>White Plate with a lot of guacamole and an ext...</td>\n",
       "    </tr>\n",
       "    <tr>\n",
       "      <th>591752</th>\n",
       "      <td>133071</td>\n",
       "      <td>829717</td>\n",
       "      <td>A dinner plate has a lemon wedge garnishment.</td>\n",
       "    </tr>\n",
       "  </tbody>\n",
       "</table>\n",
       "<p>591753 rows × 3 columns</p>\n",
       "</div>"
      ],
      "text/plain": [
       "        image_id      id                                            caption\n",
       "0         203564      37  A bicycle replica with a clock as the front wh...\n",
       "1         322141      49  A room with blue walls and a white sink and door.\n",
       "2          16977      89  A car that seems to be parked illegally behind...\n",
       "3         106140      98  A large passenger airplane flying through the ...\n",
       "4         106140     101  There is a GOL plane taking off in a partly cl...\n",
       "...          ...     ...                                                ...\n",
       "591748    133071  829655  a slice of bread is covered with a sour cream ...\n",
       "591749    410182  829658  A long plate hold some fries with some sliders...\n",
       "591750    180285  829665       Two women sit and pose with stuffed animals.\n",
       "591751    133071  829693  White Plate with a lot of guacamole and an ext...\n",
       "591752    133071  829717      A dinner plate has a lemon wedge garnishment.\n",
       "\n",
       "[591753 rows x 3 columns]"
      ]
     },
     "execution_count": 10,
     "metadata": {},
     "output_type": "execute_result"
    }
   ],
   "source": [
    "caption_ds"
   ]
  },
  {
   "cell_type": "code",
   "execution_count": null,
   "metadata": {
    "colab": {
     "base_uri": "https://localhost:8080/"
    },
    "id": "0i9SxT2v4ud7",
    "outputId": "e2f1e97d-2948-4a6d-ecb8-e48ad52318fa"
   },
   "outputs": [
    {
     "data": {
      "text/plain": [
       "52109     7\n",
       "23247     7\n",
       "336464    7\n",
       "279818    6\n",
       "476074    6\n",
       "         ..\n",
       "372193    5\n",
       "368103    5\n",
       "392683    5\n",
       "333302    5\n",
       "8196      5\n",
       "Name: image_id, Length: 118287, dtype: int64"
      ]
     },
     "execution_count": 8,
     "metadata": {},
     "output_type": "execute_result"
    }
   ],
   "source": [
    "caption_ds['image_id'].value_counts()"
   ]
  },
  {
   "cell_type": "code",
   "execution_count": null,
   "metadata": {
    "colab": {
     "base_uri": "https://localhost:8080/",
     "height": 35
    },
    "id": "QDWSbwrTl4zB",
    "outputId": "f781d03b-fae4-4635-c4fb-d3482647824a"
   },
   "outputs": [
    {
     "data": {
      "application/vnd.google.colaboratory.intrinsic+json": {
       "type": "string"
      },
      "text/plain": [
       "'Three teenagers play tennis on a court surrounded by greenery.'"
      ]
     },
     "execution_count": 28,
     "metadata": {},
     "output_type": "execute_result"
    }
   ],
   "source": [
    "np.random.choice(np.array(caption_ds.loc[caption_ds['image_id'] == 52109].caption))"
   ]
  },
  {
   "cell_type": "code",
   "execution_count": null,
   "metadata": {
    "colab": {
     "base_uri": "https://localhost:8080/",
     "height": 206
    },
    "id": "5CypUy_xmHSA",
    "outputId": "72689e3c-38d7-489e-f0a0-1a50946a9625"
   },
   "outputs": [
    {
     "data": {
      "text/html": [
       "<div>\n",
       "<style scoped>\n",
       "    .dataframe tbody tr th:only-of-type {\n",
       "        vertical-align: middle;\n",
       "    }\n",
       "\n",
       "    .dataframe tbody tr th {\n",
       "        vertical-align: top;\n",
       "    }\n",
       "\n",
       "    .dataframe thead th {\n",
       "        text-align: right;\n",
       "    }\n",
       "</style>\n",
       "<table border=\"1\" class=\"dataframe\">\n",
       "  <thead>\n",
       "    <tr style=\"text-align: right;\">\n",
       "      <th></th>\n",
       "      <th>image_id</th>\n",
       "      <th>id</th>\n",
       "      <th>caption</th>\n",
       "    </tr>\n",
       "  </thead>\n",
       "  <tbody>\n",
       "    <tr>\n",
       "      <th>591748</th>\n",
       "      <td>133071</td>\n",
       "      <td>829655</td>\n",
       "      <td>a slice of bread is covered with a sour cream ...</td>\n",
       "    </tr>\n",
       "    <tr>\n",
       "      <th>591749</th>\n",
       "      <td>410182</td>\n",
       "      <td>829658</td>\n",
       "      <td>A long plate hold some fries with some sliders...</td>\n",
       "    </tr>\n",
       "    <tr>\n",
       "      <th>591750</th>\n",
       "      <td>180285</td>\n",
       "      <td>829665</td>\n",
       "      <td>Two women sit and pose with stuffed animals.</td>\n",
       "    </tr>\n",
       "    <tr>\n",
       "      <th>591751</th>\n",
       "      <td>133071</td>\n",
       "      <td>829693</td>\n",
       "      <td>White Plate with a lot of guacamole and an ext...</td>\n",
       "    </tr>\n",
       "    <tr>\n",
       "      <th>591752</th>\n",
       "      <td>133071</td>\n",
       "      <td>829717</td>\n",
       "      <td>A dinner plate has a lemon wedge garnishment.</td>\n",
       "    </tr>\n",
       "  </tbody>\n",
       "</table>\n",
       "</div>"
      ],
      "text/plain": [
       "        image_id      id                                            caption\n",
       "591748    133071  829655  a slice of bread is covered with a sour cream ...\n",
       "591749    410182  829658  A long plate hold some fries with some sliders...\n",
       "591750    180285  829665       Two women sit and pose with stuffed animals.\n",
       "591751    133071  829693  White Plate with a lot of guacamole and an ext...\n",
       "591752    133071  829717      A dinner plate has a lemon wedge garnishment."
      ]
     },
     "execution_count": 13,
     "metadata": {},
     "output_type": "execute_result"
    }
   ],
   "source": [
    "caption_ds.tail()"
   ]
  },
  {
   "cell_type": "code",
   "execution_count": null,
   "metadata": {
    "colab": {
     "base_uri": "https://localhost:8080/"
    },
    "id": "G9LTKjP-wKPY",
    "outputId": "4e346e7e-a4c9-489b-f1a2-a24fd4772f04"
   },
   "outputs": [
    {
     "data": {
      "text/plain": [
       "118287"
      ]
     },
     "execution_count": 20,
     "metadata": {},
     "output_type": "execute_result"
    }
   ],
   "source": [
    "# find unique image_ids\n",
    "unique_ids = np.unique(caption_ds['image_id'])\n",
    "len(unique_ids)"
   ]
  },
  {
   "cell_type": "code",
   "execution_count": null,
   "metadata": {
    "id": "WiIq4ugp6mE_"
   },
   "outputs": [],
   "source": [
    "# Pick a random caption from each image's captions\n",
    "def randomPick(image_id):\n",
    "    \"\"\"\n",
    "    Given an image_id choose a caption among its annotated captions randomly.\n",
    "    \"\"\"\n",
    "    correspond_captions = np.array(caption_ds.loc[caption_ds['image_id'] == image_id].caption) # Find image related captions.\n",
    "    picked_cap = random.choice(correspond_captions) # choose a random caption\n",
    "    return picked_cap\n",
    "\n",
    "# Define a list that will be contained image_ids and there corresponding randomly choosed caption.\n",
    "picked_ds = []\n",
    "for image_id in unique_ids:\n",
    "    caption = randomPick(image_id)\n",
    "    picked_ds.append(dict({'image_id': image_id, 'caption': caption})) # append it to list"
   ]
  },
  {
   "cell_type": "code",
   "execution_count": null,
   "metadata": {
    "id": "_WtQ2VR41nzf"
   },
   "outputs": [],
   "source": [
    "picked_ds"
   ]
  },
  {
   "cell_type": "code",
   "execution_count": null,
   "metadata": {
    "colab": {
     "base_uri": "https://localhost:8080/",
     "height": 424
    },
    "id": "ien6ashc0XRm",
    "outputId": "a641df60-d94d-4808-a580-0d22d894fe18"
   },
   "outputs": [
    {
     "data": {
      "text/html": [
       "<div>\n",
       "<style scoped>\n",
       "    .dataframe tbody tr th:only-of-type {\n",
       "        vertical-align: middle;\n",
       "    }\n",
       "\n",
       "    .dataframe tbody tr th {\n",
       "        vertical-align: top;\n",
       "    }\n",
       "\n",
       "    .dataframe thead th {\n",
       "        text-align: right;\n",
       "    }\n",
       "</style>\n",
       "<table border=\"1\" class=\"dataframe\">\n",
       "  <thead>\n",
       "    <tr style=\"text-align: right;\">\n",
       "      <th></th>\n",
       "      <th>image_id</th>\n",
       "      <th>caption</th>\n",
       "    </tr>\n",
       "  </thead>\n",
       "  <tbody>\n",
       "    <tr>\n",
       "      <th>0</th>\n",
       "      <td>9</td>\n",
       "      <td>Closeup of bins of food that include broccoli ...</td>\n",
       "    </tr>\n",
       "    <tr>\n",
       "      <th>1</th>\n",
       "      <td>25</td>\n",
       "      <td>A giraffe eating food from the top of the tree.</td>\n",
       "    </tr>\n",
       "    <tr>\n",
       "      <th>2</th>\n",
       "      <td>30</td>\n",
       "      <td>A flower vase is sitting on a porch stand.</td>\n",
       "    </tr>\n",
       "    <tr>\n",
       "      <th>3</th>\n",
       "      <td>34</td>\n",
       "      <td>The zebra is eating grass in the sun.</td>\n",
       "    </tr>\n",
       "    <tr>\n",
       "      <th>4</th>\n",
       "      <td>36</td>\n",
       "      <td>A woman posing for the camera, holding a pink,...</td>\n",
       "    </tr>\n",
       "    <tr>\n",
       "      <th>...</th>\n",
       "      <td>...</td>\n",
       "      <td>...</td>\n",
       "    </tr>\n",
       "    <tr>\n",
       "      <th>118282</th>\n",
       "      <td>581906</td>\n",
       "      <td>A damaged, leather suit case sitting on a dirt...</td>\n",
       "    </tr>\n",
       "    <tr>\n",
       "      <th>118283</th>\n",
       "      <td>581909</td>\n",
       "      <td>An old boat sits on a trailer hitch.</td>\n",
       "    </tr>\n",
       "    <tr>\n",
       "      <th>118284</th>\n",
       "      <td>581913</td>\n",
       "      <td>A group of donuts sitting in a box.</td>\n",
       "    </tr>\n",
       "    <tr>\n",
       "      <th>118285</th>\n",
       "      <td>581921</td>\n",
       "      <td>A man riding an orange snow board jumping off ...</td>\n",
       "    </tr>\n",
       "    <tr>\n",
       "      <th>118286</th>\n",
       "      <td>581929</td>\n",
       "      <td>Two horses are grazing in a green field.</td>\n",
       "    </tr>\n",
       "  </tbody>\n",
       "</table>\n",
       "<p>118287 rows × 2 columns</p>\n",
       "</div>"
      ],
      "text/plain": [
       "        image_id                                            caption\n",
       "0              9  Closeup of bins of food that include broccoli ...\n",
       "1             25    A giraffe eating food from the top of the tree.\n",
       "2             30         A flower vase is sitting on a porch stand.\n",
       "3             34              The zebra is eating grass in the sun.\n",
       "4             36  A woman posing for the camera, holding a pink,...\n",
       "...          ...                                                ...\n",
       "118282    581906  A damaged, leather suit case sitting on a dirt...\n",
       "118283    581909               An old boat sits on a trailer hitch.\n",
       "118284    581913                A group of donuts sitting in a box.\n",
       "118285    581921  A man riding an orange snow board jumping off ...\n",
       "118286    581929           Two horses are grazing in a green field.\n",
       "\n",
       "[118287 rows x 2 columns]"
      ]
     },
     "execution_count": 36,
     "metadata": {},
     "output_type": "execute_result"
    }
   ],
   "source": [
    "df = pd.DataFrame(picked_ds)\n",
    "df"
   ]
  },
  {
   "cell_type": "code",
   "execution_count": null,
   "metadata": {
    "id": "qGZ8fh2e2scV"
   },
   "outputs": [],
   "source": [
    "df.to_csv(\"./coco_selected.cvs\", index=False)"
   ]
  },
  {
   "cell_type": "code",
   "execution_count": null,
   "metadata": {
    "id": "DIic9BgK228Y"
   },
   "outputs": [],
   "source": [
    "caption_ds.to_csv(\"/content/drive/MyDrive/Coco/coco_captions_original.csv\", index=False)118"
   ]
  },
  {
   "cell_type": "markdown",
   "metadata": {
    "id": "GisdYG663VKs"
   },
   "source": [
    "# Translation\n",
    "Working on selected captions: \n",
    "\n",
    "* split them into some chunks, then translate chunks one by one."
   ]
  },
  {
   "cell_type": "code",
   "execution_count": 6,
   "metadata": {},
   "outputs": [],
   "source": [
    "class MultiLangSimilarity():\n",
    "    def __init__(self, model_name, device='cpu'):\n",
    "        self.model = SentenceTransformer(model_name, device=device)\n",
    "\n",
    "    def __call__(self, text):\n",
    "        return self.model.encode(text,  \n",
    "                                convert_to_tensor=True,\n",
    "                                normalize_embeddings=True)\n",
    "\n",
    "    def score(self, a, b):\n",
    "        a, b = self([a, b])\n",
    "        return torch.dot(a, b).item()\n",
    "\n",
    "\n",
    "class Translator():\n",
    "    def __init__(self, model_name:str, min_score:float=.9, device:str='cpu'):\n",
    "        self.min_score = min_score\n",
    "        self.similar = MultiLangSimilarity(model_name=model_name, device=device)\n",
    "\n",
    "    def __call__(self, sentences:list):\n",
    "        outputs = []\n",
    "        for i, sentence in tqdm(enumerate(sentences), total=len(sentences)):\n",
    "            aug = translate(sentence, from_language='en', to_language='fa')\n",
    "            score = self.similar.score(sentence, aug)\n",
    "            if score >= self.min_score:\n",
    "                outputs.append({'id': i, 'en': sentence, 'fa': aug, '%': score})\n",
    "        return outputs"
   ]
  },
  {
   "cell_type": "code",
   "execution_count": 14,
   "metadata": {
    "colab": {
     "base_uri": "https://localhost:8080/",
     "height": 424
    },
    "id": "u1XphilJjSSW",
    "outputId": "6a8efa3a-a4e6-43a6-ca5d-5ba20e1ff667"
   },
   "outputs": [
    {
     "data": {
      "text/html": [
       "<div>\n",
       "<style scoped>\n",
       "    .dataframe tbody tr th:only-of-type {\n",
       "        vertical-align: middle;\n",
       "    }\n",
       "\n",
       "    .dataframe tbody tr th {\n",
       "        vertical-align: top;\n",
       "    }\n",
       "\n",
       "    .dataframe thead th {\n",
       "        text-align: right;\n",
       "    }\n",
       "</style>\n",
       "<table border=\"1\" class=\"dataframe\">\n",
       "  <thead>\n",
       "    <tr style=\"text-align: right;\">\n",
       "      <th></th>\n",
       "      <th>image_id</th>\n",
       "      <th>caption</th>\n",
       "    </tr>\n",
       "  </thead>\n",
       "  <tbody>\n",
       "    <tr>\n",
       "      <th>0</th>\n",
       "      <td>9</td>\n",
       "      <td>Closeup of bins of food that include broccoli ...</td>\n",
       "    </tr>\n",
       "    <tr>\n",
       "      <th>1</th>\n",
       "      <td>25</td>\n",
       "      <td>A giraffe eating food from the top of the tree.</td>\n",
       "    </tr>\n",
       "    <tr>\n",
       "      <th>2</th>\n",
       "      <td>30</td>\n",
       "      <td>A flower vase is sitting on a porch stand.</td>\n",
       "    </tr>\n",
       "    <tr>\n",
       "      <th>3</th>\n",
       "      <td>34</td>\n",
       "      <td>The zebra is eating grass in the sun.</td>\n",
       "    </tr>\n",
       "    <tr>\n",
       "      <th>4</th>\n",
       "      <td>36</td>\n",
       "      <td>A woman posing for the camera, holding a pink,...</td>\n",
       "    </tr>\n",
       "    <tr>\n",
       "      <th>...</th>\n",
       "      <td>...</td>\n",
       "      <td>...</td>\n",
       "    </tr>\n",
       "    <tr>\n",
       "      <th>118282</th>\n",
       "      <td>581906</td>\n",
       "      <td>A damaged, leather suit case sitting on a dirt...</td>\n",
       "    </tr>\n",
       "    <tr>\n",
       "      <th>118283</th>\n",
       "      <td>581909</td>\n",
       "      <td>An old boat sits on a trailer hitch.</td>\n",
       "    </tr>\n",
       "    <tr>\n",
       "      <th>118284</th>\n",
       "      <td>581913</td>\n",
       "      <td>A group of donuts sitting in a box.</td>\n",
       "    </tr>\n",
       "    <tr>\n",
       "      <th>118285</th>\n",
       "      <td>581921</td>\n",
       "      <td>A man riding an orange snow board jumping off ...</td>\n",
       "    </tr>\n",
       "    <tr>\n",
       "      <th>118286</th>\n",
       "      <td>581929</td>\n",
       "      <td>Two horses are grazing in a green field.</td>\n",
       "    </tr>\n",
       "  </tbody>\n",
       "</table>\n",
       "<p>118287 rows × 2 columns</p>\n",
       "</div>"
      ],
      "text/plain": [
       "        image_id                                            caption\n",
       "0              9  Closeup of bins of food that include broccoli ...\n",
       "1             25    A giraffe eating food from the top of the tree.\n",
       "2             30         A flower vase is sitting on a porch stand.\n",
       "3             34              The zebra is eating grass in the sun.\n",
       "4             36  A woman posing for the camera, holding a pink,...\n",
       "...          ...                                                ...\n",
       "118282    581906  A damaged, leather suit case sitting on a dirt...\n",
       "118283    581909               An old boat sits on a trailer hitch.\n",
       "118284    581913                A group of donuts sitting in a box.\n",
       "118285    581921  A man riding an orange snow board jumping off ...\n",
       "118286    581929           Two horses are grazing in a green field.\n",
       "\n",
       "[118287 rows x 2 columns]"
      ]
     },
     "execution_count": 14,
     "metadata": {},
     "output_type": "execute_result"
    }
   ],
   "source": [
    "# Read selected csv\n",
    "df = pd.read_csv('/home/kaen/Projects/Datasets/Coco/coco_selected.csv')\n",
    "df"
   ]
  },
  {
   "cell_type": "code",
   "execution_count": 8,
   "metadata": {
    "id": "GZRPOphwkGLl"
   },
   "outputs": [
    {
     "name": "stdout",
     "output_type": "stream",
     "text": [
      "<class 'pandas.core.frame.DataFrame'>\n",
      "RangeIndex: 118287 entries, 0 to 118286\n",
      "Data columns (total 2 columns):\n",
      " #   Column    Non-Null Count   Dtype \n",
      "---  ------    --------------   ----- \n",
      " 0   image_id  118287 non-null  int64 \n",
      " 1   caption   118287 non-null  object\n",
      "dtypes: int64(1), object(1)\n",
      "memory usage: 1.8+ MB\n"
     ]
    }
   ],
   "source": [
    "df.info()"
   ]
  },
  {
   "cell_type": "code",
   "execution_count": 9,
   "metadata": {},
   "outputs": [
    {
     "name": "stderr",
     "output_type": "stream",
     "text": [
      "/tmp/ipykernel_4887/2587052878.py:2: VisibleDeprecationWarning: Creating an ndarray from ragged nested sequences (which is a list-or-tuple of lists-or-tuples-or ndarrays with different lengths or shapes) is deprecated. If you meant to do this, you must specify 'dtype=object' when creating the ndarray\n",
      "  chunks = np.array([df[x:x+5000] for x in range(0, len(df), 5000)])\n"
     ]
    },
    {
     "data": {
      "text/plain": [
       "array([      image_id                                            caption\n",
       "0            9  Closeup of bins of food that include broccoli ...\n",
       "1           25    A giraffe eating food from the top of the tree.\n",
       "2           30         A flower vase is sitting on a porch stand.\n",
       "3           34              The zebra is eating grass in the sun.\n",
       "4           36  A woman posing for the camera, holding a pink,...\n",
       "...        ...                                                ...\n",
       "4995     24591     Skier on slope near chair lift in alpine area.\n",
       "4996     24600  A red double decker bus driving in front of a ...\n",
       "4997     24601  A woman swings her hand out to hit a ball as p...\n",
       "4998     24608  A parked motorcycle towing a four-wheeled cart...\n",
       "4999     24609  A person sitting in a small, narrow boat fille...\n",
       "\n",
       "[5000 rows x 2 columns],\n",
       "             image_id                                            caption\n",
       "5000     24621        A person riding a skateboard on the cement.\n",
       "5001     24625  The woman is straightening the pants of a smal...\n",
       "5002     24629  a stop sign with some arabic writing on the bo...\n",
       "5003     24636                 A white sink and mirror in a room.\n",
       "5004     24637  A photo of an ice covered ground with rock and...\n",
       "...        ...                                                ...\n",
       "9995     48784  A close up of a school bus parked in a parking...\n",
       "9996     48786  A group of bikers are riding down the road in ...\n",
       "9997     48789        A baseball player hitting a ball in a game.\n",
       "9998     48791  A giraffe leans over a fence to eat from a hap...\n",
       "9999     48794  A person doing an activity in the water on the...\n",
       "\n",
       "[5000 rows x 2 columns],\n",
       "              image_id                                            caption\n",
       "10000     48795        A book called Our Crowd sitting on a bench.\n",
       "10001     48797  A beach packed with people and colorful umbrellas\n",
       "10002     48805  A dog seems to be observing something from the...\n",
       "10003     48821                A child standing in front of a cow.\n",
       "10004     48824    A man standing next to a pole reaching up high.\n",
       "...         ...                                                ...\n",
       "14995     73527  A street with a few people walking and cars in...\n",
       "14996     73536  Servings of food near a Christmas center piece.  \n",
       "14997     73537  The man must pick which picture of the ducks i...\n",
       "14998     73541  A blue sky is reflected in a motorcycle rear v...\n",
       "14999     73549  A view of a dining room with a chandler above ...\n",
       "\n",
       "[5000 rows x 2 columns],\n",
       "              image_id                                            caption\n",
       "15000     73554  a sheep with its head hanging over the top of ...\n",
       "15001     73560  A child sits at a table that holds several piz...\n",
       "15002     73567  A dog lying lazily on a bed peeking up from th...\n",
       "15003     73568  A table that has been serving a large tray of ...\n",
       "15004     73574        A herd of cows that are grazing in a field.\n",
       "...         ...                                                ...\n",
       "19995     98190  A young boy on a baseball field ready to catch...\n",
       "19996     98193  a man and a woman are holding up different phones\n",
       "19997     98194  Two black and white dogs in front of an abando...\n",
       "19998     98197                 A bear that is walking in a field.\n",
       "19999     98205                 A woman looks at her phone in bed.\n",
       "\n",
       "[5000 rows x 2 columns],\n",
       "              image_id                                            caption\n",
       "20000     98210   A city bus waits for tourists to get on the bus.\n",
       "20001     98213     A giant red stop sign suspended over a street.\n",
       "20002     98220                a bunch of food is cooking in a pan\n",
       "20003     98232  Birds rest on the canoes that are sitting on t...\n",
       "20004     98233  a crowd of people are sitting outdoors  for a ...\n",
       "...         ...                                                ...\n",
       "24995    122777    A computer desk top with laptops and a monitor.\n",
       "24996    122780  A girl sitting at a dining table with a birthd...\n",
       "24997    122782        The man is showing the woman a slide show. \n",
       "24998    122786  A cluttered but somewhat clean looking living ...\n",
       "24999    122787  A couch sits beside a door opening to a bedroom. \n",
       "\n",
       "[5000 rows x 2 columns],\n",
       "              image_id                                            caption\n",
       "25000    122796         There is a woman playing a game of tennis.\n",
       "25001    122798       A person on a surfboard falls off on a wave.\n",
       "25002    122802           An old man in the middle of his kitchen.\n",
       "25003    122811  The two trains are moving in opposite directio...\n",
       "25004    122818  A city square crowded with people gathering to...\n",
       "...         ...                                                ...\n",
       "29995    147058               A small black step on a busy street.\n",
       "29996    147060  A man in a room full of other people working o...\n",
       "29997    147068  A group of bikers parked in the middle of a st...\n",
       "29998    147073  The man walks down the street in front of a bu...\n",
       "29999    147076  A man standing on a tennis court holding a rac...\n",
       "\n",
       "[5000 rows x 2 columns],\n",
       "              image_id                                            caption\n",
       "30000    147082  Four people ride horses on the beach while loo...\n",
       "30001    147088  A man tosses a Frisbee while playing in the sa...\n",
       "30002    147091  A man with a moped or motorcycle along a stree...\n",
       "30003    147092  No image is appearing in this image descriptio...\n",
       "30004    147094            This an image of a bird on a car mirror\n",
       "...         ...                                                ...\n",
       "34995    172012             A can and a sandwich on top of a menu.\n",
       "34996    172017           A sad looking dog stares out the window.\n",
       "34997    172020   A hand holding a tie intended for a cat to wear.\n",
       "34998    172021    A woman waiting in front of a train to board it\n",
       "34999    172023  The blue and yellow train is pulling cars alon...\n",
       "\n",
       "[5000 rows x 2 columns],\n",
       "              image_id                                            caption\n",
       "35000    172036    A large black bear sitting on a wooden surface.\n",
       "35001    172040  A kitchen with a refrigerator freezer sitting ...\n",
       "35002    172051         A serving of meat and broccoli on a plate.\n",
       "35003    172056  a man eating a burrito in front of a powered o...\n",
       "35004    172057  A table with umbrella and chairs set up cafe s...\n",
       "...         ...                                                ...\n",
       "39995    196865     two books sitting in a pile on top of a table \n",
       "39996    196870  THERE IS A ROOM WTHA A LOT OF STORAGE SPACE IN...\n",
       "39997    196876           Some beans in a bowl and food on a tray.\n",
       "39998    196878              An old image of a magazine from 1932.\n",
       "39999    196879  A zebra is standing on gravel, facing the camera,\n",
       "\n",
       "[5000 rows x 2 columns],\n",
       "              image_id                                            caption\n",
       "40000    196885  A baseball player holding a bat next to home p...\n",
       "40001    196888  cups and plates left on the outside table with...\n",
       "40002    196899  A bunch of people who are standing around a ta...\n",
       "40003    196900         A little boy is playing with toilet paper.\n",
       "40004    196912   A couple of young men standing on top of a field\n",
       "...         ...                                                ...\n",
       "44995    221771  A cow using it's tongue to take an apple from ...\n",
       "44996    221776             A woman is skiing and walking her dog.\n",
       "44997    221785                A very big boat docked on the pier.\n",
       "44998    221787  A street scene with people crossing in a cross...\n",
       "44999    221794        Two people using skis standing in the snow.\n",
       "\n",
       "[5000 rows x 2 columns],\n",
       "              image_id                                            caption\n",
       "45000    221803  A row of buildings in a tow, one of them has a...\n",
       "45001    221805          There is a boat going across some water. \n",
       "45002    221814  A man holding a skateboard in front of a group...\n",
       "45003    221820   a stop sign and no right run sign in a big city.\n",
       "45004    221828  a glass blender on a kitchen counter with a to...\n",
       "...         ...                                                ...\n",
       "49995    246496      Many different types of food sit on a plate. \n",
       "49996    246499  An clean and empty industrial kitchen with sta...\n",
       "49997    246503   A cat laying on top of paper on a set of chairs.\n",
       "49998    246512      A dog sitting in a wet puddle inside a fence.\n",
       "49999    246528  A man on a cell phone and a man with a pony ta...\n",
       "\n",
       "[5000 rows x 2 columns],\n",
       "              image_id                                            caption\n",
       "50000    246530  there are two giraffes that seem to be embraci...\n",
       "50001    246532        A mountain with a ski slope and two skiers.\n",
       "50002    246535      A man playing tennis strikes the tennis ball.\n",
       "50003    246539  A person standing over a green bowl with fruit...\n",
       "50004    246540  A rare treat sits on top of a specialty desert...\n",
       "...         ...                                                ...\n",
       "54995    271280  A couple of giraffe standing next to a  group ...\n",
       "54996    271282            A woman taking a swing at a tennis ball\n",
       "54997    271283  A yummy looking pizza with sauce, mushrooms an...\n",
       "54998    271298  The view of a professional baseball game from ...\n",
       "54999    271301  Small motor boat with some passengers in the w...\n",
       "\n",
       "[5000 rows x 2 columns],\n",
       "              image_id                                            caption\n",
       "55000    271310  Large herd of cows moving across brown grassy ...\n",
       "55001    271324         A tall giraffe standing in an arrid field.\n",
       "55002    271338  there is a man that is wearing a suit and taki...\n",
       "55003    271343  Laughing business people share a joke in the s...\n",
       "55004    271344  A bright red panel truck is parked with a woma...\n",
       "...         ...                                                ...\n",
       "59995    295655  A young woman uses her phone while standing on...\n",
       "59996    295656  some people standing together while eating and...\n",
       "59997    295657  A very large green military truck on a road wi...\n",
       "59998    295659               Two people ski over a field of snow.\n",
       "59999    295668        A fresh pizza with broccoli on it is shown.\n",
       "\n",
       "[5000 rows x 2 columns],\n",
       "              image_id                                            caption\n",
       "60000    295670  A person standing in the snow holding two ski ...\n",
       "60001    295675  Yellow and blue train with British flag painte...\n",
       "60002    295683    A close up image of a street sign in daylight. \n",
       "60003    295686  A blue bench with a chicken reading a book on ...\n",
       "60004    295688       A picture of a desk top computer on a desk .\n",
       "...         ...                                                ...\n",
       "64995    320171              A car parked outside of a small park.\n",
       "64996    320173  A giraffe standing in a field next to some ver...\n",
       "64997    320180         a close up of person sitting with a laptop\n",
       "64998    320182        a large group of zebra on an African plain.\n",
       "64999    320186  A female tennis player getting ready to hit a ...\n",
       "\n",
       "[5000 rows x 2 columns],\n",
       "              image_id                                            caption\n",
       "65000    320192   A person laying on the ground holding a frisbee.\n",
       "65001    320194  CHILD WITH HANDS TUCKED UNDER CHEEKS, LIES SLE...\n",
       "65002    320200               A man holds many kites on his bike. \n",
       "65003    320203              the sign says to stop and river point\n",
       "65004    320217  Boats are anchored in the water with their sai...\n",
       "...         ...                                                ...\n",
       "69995    344238  Mirror and marble residential bathroom with tw...\n",
       "69996    344254  A young male tennis player in action on the co...\n",
       "69997    344255         A person that is playing in a tennis game.\n",
       "69998    344259     A breakfast plate of scrambled eggs and fruit.\n",
       "69999    344261  The giraffes are standing together by the wood...\n",
       "\n",
       "[5000 rows x 2 columns],\n",
       "              image_id                                            caption\n",
       "70000    344264      A young man brushing his teeth in the street.\n",
       "70001    344271    A man sitting eating an apple with his bicycle.\n",
       "70002    344276  Picture of a large bed with white bedspread re...\n",
       "70003    344279  A very cute white bunny sitting in a living room.\n",
       "70004    344280  A clock on the wall of a building in a downtow...\n",
       "...         ...                                                ...\n",
       "74995    368528             A man is standing in the snow on skis.\n",
       "74996    368541     A line of people waiting to board a jumbo jet.\n",
       "74997    368547  Three white sheep sitting on a wooden stage in...\n",
       "74998    368548      A person holding up a sandwich to the camera.\n",
       "74999    368556  A photo is taken through a clear umbrella of a...\n",
       "\n",
       "[5000 rows x 2 columns],\n",
       "              image_id                                            caption\n",
       "75000    368559                A truck that has spray paint on it.\n",
       "75001    368564  Multiple swimmers and surfers are seen in the ...\n",
       "75002    368565  A couple of little girls sitting on top of a c...\n",
       "75003    368576    there is a male baseball player that is at base\n",
       "75004    368577             A child eating a banana with her hands\n",
       "...         ...                                                ...\n",
       "79995    393243  A small child is eating a donut fed by another...\n",
       "79996    393251              A man cutting a cake with his child. \n",
       "79997    393254                  Two pictures of a tent and a bus.\n",
       "79998    393258  Several pieces of luggage that are laying on t...\n",
       "79999    393266  A car driving through a tunnel between two bui...\n",
       "\n",
       "[5000 rows x 2 columns],\n",
       "              image_id                                            caption\n",
       "80000    393267  A woman standing in front of a table surrounde...\n",
       "80001    393268  Man and woman standing while others are seated...\n",
       "80002    393271  A photograph of several images of the same you...\n",
       "80003    393274     A single train car stopped at a small station.\n",
       "80004    393277  A clock tower in a European city looks down at...\n",
       "...         ...                                                ...\n",
       "84995    417660  a close up of a train on a train track with a ...\n",
       "84996    417668              A sub sandwich on a plate with sides.\n",
       "84997    417672        A boat with a director's chair on the front\n",
       "84998    417674  Woman with luggage near phone at outdoor open ...\n",
       "84999    417679  A group of jets with red, white and blue smoke...\n",
       "\n",
       "[5000 rows x 2 columns],\n",
       "              image_id                                            caption\n",
       "85000    417689        A street sign on a pole next to a building.\n",
       "85001    417693      Several men in red uniforms riding on horses.\n",
       "85002    417696  Gold tone clock tower inside a shopping mall p...\n",
       "85003    417700        A man surfing on top of a wave in the ocean\n",
       "85004    417701  A very large colorful piece of graffiti on a t...\n",
       "...         ...                                                ...\n",
       "89995    442531  People sitting on wooden benches underneath so...\n",
       "89996    442536  There is a full view of an outdoor area and it...\n",
       "89997    442539           A bunch of sheep are standing in a field\n",
       "89998    442542    A plate of broccoli and rice on a wooden table.\n",
       "89999    442543        a desk with a watch pen keys gun and wallet\n",
       "\n",
       "[5000 rows x 2 columns],\n",
       "              image_id                                            caption\n",
       "90000    442549  Several men riding their motorcycles on a stre...\n",
       "90001    442554  A cake celebrating someone's 500th follower on...\n",
       "90002    442556      A truck with a trailer is parked in a forest.\n",
       "90003    442557    Pots and pans out side with steam coming out  .\n",
       "90004    442565  A man standing next to a dog inside of a build...\n",
       "...         ...                                                ...\n",
       "94995    467257  A young man sitting on a couch using a laptop ...\n",
       "94996    467262  A neon green atm machine next to a coke refrig...\n",
       "94997    467265  These children are flying their kites in the s...\n",
       "94998    467273  A batter gettign ready to swing at a pitch whi...\n",
       "94999    467285  A baseball player holding a baseball bat durin...\n",
       "\n",
       "[5000 rows x 2 columns],\n",
       "              image_id                                            caption\n",
       "95000    467295             A cat sitting on a pink stripped couch\n",
       "95001    467296                   A hot dog with a bite taken out \n",
       "95002    467297  A woman getting ready to cook some food in a s...\n",
       "95003    467300  a woman and man standing in front of a large c...\n",
       "95004    467308               A boat that is sitting in the water.\n",
       "...         ...                                                ...\n",
       "99995    491837  Several flower pots are arranged in front of a...\n",
       "99996    491844                A red apple and a clock on display.\n",
       "99997    491845  An out of focus picture of a cat in an open pi...\n",
       "99998    491850    Cows in a pasture with two trucks behind them. \n",
       "99999    491851               A home computer and mouse on a desk.\n",
       "\n",
       "[5000 rows x 2 columns],\n",
       "               image_id                                            caption\n",
       "100000    491856  A room features a flat screen TV, a fireplace,...\n",
       "100001    491857     Many people move through water on small boats.\n",
       "100002    491872              The man is cleaning the toilet bowl. \n",
       "100003    491873  A man takes a \"selfie\" in a mirror with a camera.\n",
       "100004    491879  A man working on surfboards on top of a wooden...\n",
       "...          ...                                                ...\n",
       "104995    516795  A baseball player swinging at a baseball with ...\n",
       "104996    516798  A red pick up truck parked on a field next to ...\n",
       "104997    516799  Man holding up a small square bar with the let...\n",
       "104998    516800            a long green train on some metal tracks\n",
       "104999    516805         A table full of items and on a sunny day. \n",
       "\n",
       "[5000 rows x 2 columns],\n",
       "               image_id                                            caption\n",
       "105000    516808  A group of people eating a slice of cake on a ...\n",
       "105001    516812              A red fire hydrant in front of a tree\n",
       "105002    516813       A little boy in ski gear riding down a hill.\n",
       "105003    516823  a fire hydrant sitting undeneath trees covered...\n",
       "105004    516827             A small horse by a barbed wire fence\\n\n",
       "...          ...                                                ...\n",
       "109995    541472        these fruits are together in a metal basket\n",
       "109996    541474     a man on a snowboard is riding down the slope.\n",
       "109997    541478  A man is smiling while holding a picture of a ...\n",
       "109998    541485  An elephant is standing in the middle of bushe...\n",
       "109999    541486                A large bike and a man on a street.\n",
       "\n",
       "[5000 rows x 2 columns],\n",
       "               image_id                                            caption\n",
       "110000    541491              A desk with a computer sitting on it.\n",
       "110001    541493           The sink has a mirrored cabinet above it\n",
       "110002    541496  Blue, black and red luggage sit on the floor n...\n",
       "110003    541505  THREE YELLOW BOTTLES, ONE WITH FLOWERS IN FRON...\n",
       "110004    541506  A semi truck sits in front of a building with ...\n",
       "...          ...                                                ...\n",
       "114995    565864             A man is in a pen with a dog and sheep\n",
       "114996    565869     A surfer is surfing on the fast running water.\n",
       "114997    565870  There is a round homemade pizza in the foregro...\n",
       "114998    565875    A bus driving down a road next to a brown bear.\n",
       "114999    565876   A man in a beanie and jacket brushing his teeth.\n",
       "\n",
       "[5000 rows x 2 columns],\n",
       "               image_id                                            caption\n",
       "115000    565878      A man holding a hot dog in both of his hands.\n",
       "115001    565884  There are two elephants that are standing in t...\n",
       "115002    565886       A living room is shown with leather couches.\n",
       "115003    565902  A cheesy sandwich on a sub bun is sitting alon...\n",
       "115004    565903    Young woman who barely threw a frisbee in park.\n",
       "...          ...                                                ...\n",
       "118282    581906  A damaged, leather suit case sitting on a dirt...\n",
       "118283    581909               An old boat sits on a trailer hitch.\n",
       "118284    581913                A group of donuts sitting in a box.\n",
       "118285    581921  A man riding an orange snow board jumping off ...\n",
       "118286    581929           Two horses are grazing in a green field.\n",
       "\n",
       "[3287 rows x 2 columns]], dtype=object)"
      ]
     },
     "execution_count": 9,
     "metadata": {},
     "output_type": "execute_result"
    }
   ],
   "source": [
    "# Split data into some chunks\n",
    "chunks = np.array([df[x:x+5000] for x in range(0, len(df), 5000)])\n",
    "chunks"
   ]
  },
  {
   "cell_type": "code",
   "execution_count": 10,
   "metadata": {},
   "outputs": [
    {
     "data": {
      "text/plain": [
       "24"
      ]
     },
     "execution_count": 10,
     "metadata": {},
     "output_type": "execute_result"
    }
   ],
   "source": [
    "len(chunks)"
   ]
  },
  {
   "cell_type": "code",
   "execution_count": 15,
   "metadata": {},
   "outputs": [],
   "source": [
    "# Append translated result to our dataframe\n",
    "def appendToDataFrame(result, data_frame):\n",
    "    for cap in result:\n",
    "        data_frame.loc[cap['en'], 'fa_caption'] = cap['fa']\n",
    "        print('Result appended to the dataset...')\n",
    "\n",
    "def saveDataFrame(data_frame, write_to='/home/kaen/Projects/Datasets/Coco/coco_translated.csv'):\n",
    "    data_frame.to_csv(write_to, index=False)\n",
    "    print('Dataset modiifed...')  "
   ]
  },
  {
   "cell_type": "code",
   "execution_count": 16,
   "metadata": {},
   "outputs": [
    {
     "data": {
      "application/vnd.jupyter.widget-view+json": {
       "model_id": "cd121f6ed54a44e59d05af4571798a8a",
       "version_major": 2,
       "version_minor": 0
      },
      "text/plain": [
       "Downloading:   0%|          | 0.00/690 [00:00<?, ?B/s]"
      ]
     },
     "metadata": {},
     "output_type": "display_data"
    },
    {
     "data": {
      "application/vnd.jupyter.widget-view+json": {
       "model_id": "c7ec4ab0615e45c9ba794ab6701f71bf",
       "version_major": 2,
       "version_minor": 0
      },
      "text/plain": [
       "Downloading:   0%|          | 0.00/3.77k [00:00<?, ?B/s]"
      ]
     },
     "metadata": {},
     "output_type": "display_data"
    },
    {
     "data": {
      "application/vnd.jupyter.widget-view+json": {
       "model_id": "42fdbb17b2844af6b19af58312e0d255",
       "version_major": 2,
       "version_minor": 0
      },
      "text/plain": [
       "Downloading:   0%|          | 0.00/723 [00:00<?, ?B/s]"
      ]
     },
     "metadata": {},
     "output_type": "display_data"
    },
    {
     "data": {
      "application/vnd.jupyter.widget-view+json": {
       "model_id": "d208b760abbb4d3396d3c012ada491a2",
       "version_major": 2,
       "version_minor": 0
      },
      "text/plain": [
       "Downloading:   0%|          | 0.00/122 [00:00<?, ?B/s]"
      ]
     },
     "metadata": {},
     "output_type": "display_data"
    },
    {
     "data": {
      "application/vnd.jupyter.widget-view+json": {
       "model_id": "920287edc5dc48bcb38e824c537d7062",
       "version_major": 2,
       "version_minor": 0
      },
      "text/plain": [
       "Downloading:   0%|          | 0.00/229 [00:00<?, ?B/s]"
      ]
     },
     "metadata": {},
     "output_type": "display_data"
    },
    {
     "data": {
      "application/vnd.jupyter.widget-view+json": {
       "model_id": "bc200344e8314cafa00b016294b65bcd",
       "version_major": 2,
       "version_minor": 0
      },
      "text/plain": [
       "Downloading:   0%|          | 0.00/1.11G [00:00<?, ?B/s]"
      ]
     },
     "metadata": {},
     "output_type": "display_data"
    },
    {
     "ename": "ConnectionError",
     "evalue": "HTTPSConnectionPool(host='cdn-lfs.huggingface.co', port=443): Read timed out.",
     "output_type": "error",
     "traceback": [
      "\u001b[0;31m---------------------------------------------------------------------------\u001b[0m",
      "\u001b[0;31mtimeout\u001b[0m                                   Traceback (most recent call last)",
      "\u001b[0;32m~/Programs/miniconda3/envs/basic-ml/lib/python3.8/site-packages/urllib3/response.py\u001b[0m in \u001b[0;36m_error_catcher\u001b[0;34m(self)\u001b[0m\n\u001b[1;32m    437\u001b[0m             \u001b[0;32mtry\u001b[0m\u001b[0;34m:\u001b[0m\u001b[0;34m\u001b[0m\u001b[0;34m\u001b[0m\u001b[0m\n\u001b[0;32m--> 438\u001b[0;31m                 \u001b[0;32myield\u001b[0m\u001b[0;34m\u001b[0m\u001b[0;34m\u001b[0m\u001b[0m\n\u001b[0m\u001b[1;32m    439\u001b[0m \u001b[0;34m\u001b[0m\u001b[0m\n",
      "\u001b[0;32m~/Programs/miniconda3/envs/basic-ml/lib/python3.8/site-packages/urllib3/response.py\u001b[0m in \u001b[0;36mread\u001b[0;34m(self, amt, decode_content, cache_content)\u001b[0m\n\u001b[1;32m    518\u001b[0m                 \u001b[0mcache_content\u001b[0m \u001b[0;34m=\u001b[0m \u001b[0;32mFalse\u001b[0m\u001b[0;34m\u001b[0m\u001b[0;34m\u001b[0m\u001b[0m\n\u001b[0;32m--> 519\u001b[0;31m                 \u001b[0mdata\u001b[0m \u001b[0;34m=\u001b[0m \u001b[0mself\u001b[0m\u001b[0;34m.\u001b[0m\u001b[0m_fp\u001b[0m\u001b[0;34m.\u001b[0m\u001b[0mread\u001b[0m\u001b[0;34m(\u001b[0m\u001b[0mamt\u001b[0m\u001b[0;34m)\u001b[0m \u001b[0;32mif\u001b[0m \u001b[0;32mnot\u001b[0m \u001b[0mfp_closed\u001b[0m \u001b[0;32melse\u001b[0m \u001b[0;34mb\"\"\u001b[0m\u001b[0;34m\u001b[0m\u001b[0;34m\u001b[0m\u001b[0m\n\u001b[0m\u001b[1;32m    520\u001b[0m                 if (\n",
      "\u001b[0;32m~/Programs/miniconda3/envs/basic-ml/lib/python3.8/http/client.py\u001b[0m in \u001b[0;36mread\u001b[0;34m(self, amt)\u001b[0m\n\u001b[1;32m    454\u001b[0m             \u001b[0mb\u001b[0m \u001b[0;34m=\u001b[0m \u001b[0mbytearray\u001b[0m\u001b[0;34m(\u001b[0m\u001b[0mamt\u001b[0m\u001b[0;34m)\u001b[0m\u001b[0;34m\u001b[0m\u001b[0;34m\u001b[0m\u001b[0m\n\u001b[0;32m--> 455\u001b[0;31m             \u001b[0mn\u001b[0m \u001b[0;34m=\u001b[0m \u001b[0mself\u001b[0m\u001b[0;34m.\u001b[0m\u001b[0mreadinto\u001b[0m\u001b[0;34m(\u001b[0m\u001b[0mb\u001b[0m\u001b[0;34m)\u001b[0m\u001b[0;34m\u001b[0m\u001b[0;34m\u001b[0m\u001b[0m\n\u001b[0m\u001b[1;32m    456\u001b[0m             \u001b[0;32mreturn\u001b[0m \u001b[0mmemoryview\u001b[0m\u001b[0;34m(\u001b[0m\u001b[0mb\u001b[0m\u001b[0;34m)\u001b[0m\u001b[0;34m[\u001b[0m\u001b[0;34m:\u001b[0m\u001b[0mn\u001b[0m\u001b[0;34m]\u001b[0m\u001b[0;34m.\u001b[0m\u001b[0mtobytes\u001b[0m\u001b[0;34m(\u001b[0m\u001b[0;34m)\u001b[0m\u001b[0;34m\u001b[0m\u001b[0;34m\u001b[0m\u001b[0m\n",
      "\u001b[0;32m~/Programs/miniconda3/envs/basic-ml/lib/python3.8/http/client.py\u001b[0m in \u001b[0;36mreadinto\u001b[0;34m(self, b)\u001b[0m\n\u001b[1;32m    498\u001b[0m         \u001b[0;31m# (for example, reading in 1k chunks)\u001b[0m\u001b[0;34m\u001b[0m\u001b[0;34m\u001b[0m\u001b[0;34m\u001b[0m\u001b[0m\n\u001b[0;32m--> 499\u001b[0;31m         \u001b[0mn\u001b[0m \u001b[0;34m=\u001b[0m \u001b[0mself\u001b[0m\u001b[0;34m.\u001b[0m\u001b[0mfp\u001b[0m\u001b[0;34m.\u001b[0m\u001b[0mreadinto\u001b[0m\u001b[0;34m(\u001b[0m\u001b[0mb\u001b[0m\u001b[0;34m)\u001b[0m\u001b[0;34m\u001b[0m\u001b[0;34m\u001b[0m\u001b[0m\n\u001b[0m\u001b[1;32m    500\u001b[0m         \u001b[0;32mif\u001b[0m \u001b[0;32mnot\u001b[0m \u001b[0mn\u001b[0m \u001b[0;32mand\u001b[0m \u001b[0mb\u001b[0m\u001b[0;34m:\u001b[0m\u001b[0;34m\u001b[0m\u001b[0;34m\u001b[0m\u001b[0m\n",
      "\u001b[0;32m~/Programs/miniconda3/envs/basic-ml/lib/python3.8/socket.py\u001b[0m in \u001b[0;36mreadinto\u001b[0;34m(self, b)\u001b[0m\n\u001b[1;32m    668\u001b[0m             \u001b[0;32mtry\u001b[0m\u001b[0;34m:\u001b[0m\u001b[0;34m\u001b[0m\u001b[0;34m\u001b[0m\u001b[0m\n\u001b[0;32m--> 669\u001b[0;31m                 \u001b[0;32mreturn\u001b[0m \u001b[0mself\u001b[0m\u001b[0;34m.\u001b[0m\u001b[0m_sock\u001b[0m\u001b[0;34m.\u001b[0m\u001b[0mrecv_into\u001b[0m\u001b[0;34m(\u001b[0m\u001b[0mb\u001b[0m\u001b[0;34m)\u001b[0m\u001b[0;34m\u001b[0m\u001b[0;34m\u001b[0m\u001b[0m\n\u001b[0m\u001b[1;32m    670\u001b[0m             \u001b[0;32mexcept\u001b[0m \u001b[0mtimeout\u001b[0m\u001b[0;34m:\u001b[0m\u001b[0;34m\u001b[0m\u001b[0;34m\u001b[0m\u001b[0m\n",
      "\u001b[0;32m~/Programs/miniconda3/envs/basic-ml/lib/python3.8/ssl.py\u001b[0m in \u001b[0;36mrecv_into\u001b[0;34m(self, buffer, nbytes, flags)\u001b[0m\n\u001b[1;32m   1240\u001b[0m                   self.__class__)\n\u001b[0;32m-> 1241\u001b[0;31m             \u001b[0;32mreturn\u001b[0m \u001b[0mself\u001b[0m\u001b[0;34m.\u001b[0m\u001b[0mread\u001b[0m\u001b[0;34m(\u001b[0m\u001b[0mnbytes\u001b[0m\u001b[0;34m,\u001b[0m \u001b[0mbuffer\u001b[0m\u001b[0;34m)\u001b[0m\u001b[0;34m\u001b[0m\u001b[0;34m\u001b[0m\u001b[0m\n\u001b[0m\u001b[1;32m   1242\u001b[0m         \u001b[0;32melse\u001b[0m\u001b[0;34m:\u001b[0m\u001b[0;34m\u001b[0m\u001b[0;34m\u001b[0m\u001b[0m\n",
      "\u001b[0;32m~/Programs/miniconda3/envs/basic-ml/lib/python3.8/ssl.py\u001b[0m in \u001b[0;36mread\u001b[0;34m(self, len, buffer)\u001b[0m\n\u001b[1;32m   1098\u001b[0m             \u001b[0;32mif\u001b[0m \u001b[0mbuffer\u001b[0m \u001b[0;32mis\u001b[0m \u001b[0;32mnot\u001b[0m \u001b[0;32mNone\u001b[0m\u001b[0;34m:\u001b[0m\u001b[0;34m\u001b[0m\u001b[0;34m\u001b[0m\u001b[0m\n\u001b[0;32m-> 1099\u001b[0;31m                 \u001b[0;32mreturn\u001b[0m \u001b[0mself\u001b[0m\u001b[0;34m.\u001b[0m\u001b[0m_sslobj\u001b[0m\u001b[0;34m.\u001b[0m\u001b[0mread\u001b[0m\u001b[0;34m(\u001b[0m\u001b[0mlen\u001b[0m\u001b[0;34m,\u001b[0m \u001b[0mbuffer\u001b[0m\u001b[0;34m)\u001b[0m\u001b[0;34m\u001b[0m\u001b[0;34m\u001b[0m\u001b[0m\n\u001b[0m\u001b[1;32m   1100\u001b[0m             \u001b[0;32melse\u001b[0m\u001b[0;34m:\u001b[0m\u001b[0;34m\u001b[0m\u001b[0;34m\u001b[0m\u001b[0m\n",
      "\u001b[0;31mtimeout\u001b[0m: The read operation timed out",
      "\nDuring handling of the above exception, another exception occurred:\n",
      "\u001b[0;31mReadTimeoutError\u001b[0m                          Traceback (most recent call last)",
      "\u001b[0;32m~/Programs/miniconda3/envs/basic-ml/lib/python3.8/site-packages/requests/models.py\u001b[0m in \u001b[0;36mgenerate\u001b[0;34m()\u001b[0m\n\u001b[1;32m    752\u001b[0m                 \u001b[0;32mtry\u001b[0m\u001b[0;34m:\u001b[0m\u001b[0;34m\u001b[0m\u001b[0;34m\u001b[0m\u001b[0m\n\u001b[0;32m--> 753\u001b[0;31m                     \u001b[0;32mfor\u001b[0m \u001b[0mchunk\u001b[0m \u001b[0;32min\u001b[0m \u001b[0mself\u001b[0m\u001b[0;34m.\u001b[0m\u001b[0mraw\u001b[0m\u001b[0;34m.\u001b[0m\u001b[0mstream\u001b[0m\u001b[0;34m(\u001b[0m\u001b[0mchunk_size\u001b[0m\u001b[0;34m,\u001b[0m \u001b[0mdecode_content\u001b[0m\u001b[0;34m=\u001b[0m\u001b[0;32mTrue\u001b[0m\u001b[0;34m)\u001b[0m\u001b[0;34m:\u001b[0m\u001b[0;34m\u001b[0m\u001b[0;34m\u001b[0m\u001b[0m\n\u001b[0m\u001b[1;32m    754\u001b[0m                         \u001b[0;32myield\u001b[0m \u001b[0mchunk\u001b[0m\u001b[0;34m\u001b[0m\u001b[0;34m\u001b[0m\u001b[0m\n",
      "\u001b[0;32m~/Programs/miniconda3/envs/basic-ml/lib/python3.8/site-packages/urllib3/response.py\u001b[0m in \u001b[0;36mstream\u001b[0;34m(self, amt, decode_content)\u001b[0m\n\u001b[1;32m    575\u001b[0m             \u001b[0;32mwhile\u001b[0m \u001b[0;32mnot\u001b[0m \u001b[0mis_fp_closed\u001b[0m\u001b[0;34m(\u001b[0m\u001b[0mself\u001b[0m\u001b[0;34m.\u001b[0m\u001b[0m_fp\u001b[0m\u001b[0;34m)\u001b[0m\u001b[0;34m:\u001b[0m\u001b[0;34m\u001b[0m\u001b[0;34m\u001b[0m\u001b[0m\n\u001b[0;32m--> 576\u001b[0;31m                 \u001b[0mdata\u001b[0m \u001b[0;34m=\u001b[0m \u001b[0mself\u001b[0m\u001b[0;34m.\u001b[0m\u001b[0mread\u001b[0m\u001b[0;34m(\u001b[0m\u001b[0mamt\u001b[0m\u001b[0;34m=\u001b[0m\u001b[0mamt\u001b[0m\u001b[0;34m,\u001b[0m \u001b[0mdecode_content\u001b[0m\u001b[0;34m=\u001b[0m\u001b[0mdecode_content\u001b[0m\u001b[0;34m)\u001b[0m\u001b[0;34m\u001b[0m\u001b[0;34m\u001b[0m\u001b[0m\n\u001b[0m\u001b[1;32m    577\u001b[0m \u001b[0;34m\u001b[0m\u001b[0m\n",
      "\u001b[0;32m~/Programs/miniconda3/envs/basic-ml/lib/python3.8/site-packages/urllib3/response.py\u001b[0m in \u001b[0;36mread\u001b[0;34m(self, amt, decode_content, cache_content)\u001b[0m\n\u001b[1;32m    540\u001b[0m                         \u001b[0;31m# Content-Length are caught.\u001b[0m\u001b[0;34m\u001b[0m\u001b[0;34m\u001b[0m\u001b[0;34m\u001b[0m\u001b[0m\n\u001b[0;32m--> 541\u001b[0;31m                         \u001b[0;32mraise\u001b[0m \u001b[0mIncompleteRead\u001b[0m\u001b[0;34m(\u001b[0m\u001b[0mself\u001b[0m\u001b[0;34m.\u001b[0m\u001b[0m_fp_bytes_read\u001b[0m\u001b[0;34m,\u001b[0m \u001b[0mself\u001b[0m\u001b[0;34m.\u001b[0m\u001b[0mlength_remaining\u001b[0m\u001b[0;34m)\u001b[0m\u001b[0;34m\u001b[0m\u001b[0;34m\u001b[0m\u001b[0m\n\u001b[0m\u001b[1;32m    542\u001b[0m \u001b[0;34m\u001b[0m\u001b[0m\n",
      "\u001b[0;32m~/Programs/miniconda3/envs/basic-ml/lib/python3.8/contextlib.py\u001b[0m in \u001b[0;36m__exit__\u001b[0;34m(self, type, value, traceback)\u001b[0m\n\u001b[1;32m    130\u001b[0m             \u001b[0;32mtry\u001b[0m\u001b[0;34m:\u001b[0m\u001b[0;34m\u001b[0m\u001b[0;34m\u001b[0m\u001b[0m\n\u001b[0;32m--> 131\u001b[0;31m                 \u001b[0mself\u001b[0m\u001b[0;34m.\u001b[0m\u001b[0mgen\u001b[0m\u001b[0;34m.\u001b[0m\u001b[0mthrow\u001b[0m\u001b[0;34m(\u001b[0m\u001b[0mtype\u001b[0m\u001b[0;34m,\u001b[0m \u001b[0mvalue\u001b[0m\u001b[0;34m,\u001b[0m \u001b[0mtraceback\u001b[0m\u001b[0;34m)\u001b[0m\u001b[0;34m\u001b[0m\u001b[0;34m\u001b[0m\u001b[0m\n\u001b[0m\u001b[1;32m    132\u001b[0m             \u001b[0;32mexcept\u001b[0m \u001b[0mStopIteration\u001b[0m \u001b[0;32mas\u001b[0m \u001b[0mexc\u001b[0m\u001b[0;34m:\u001b[0m\u001b[0;34m\u001b[0m\u001b[0;34m\u001b[0m\u001b[0m\n",
      "\u001b[0;32m~/Programs/miniconda3/envs/basic-ml/lib/python3.8/site-packages/urllib3/response.py\u001b[0m in \u001b[0;36m_error_catcher\u001b[0;34m(self)\u001b[0m\n\u001b[1;32m    442\u001b[0m                 \u001b[0;31m# there is yet no clean way to get at it from this context.\u001b[0m\u001b[0;34m\u001b[0m\u001b[0;34m\u001b[0m\u001b[0;34m\u001b[0m\u001b[0m\n\u001b[0;32m--> 443\u001b[0;31m                 \u001b[0;32mraise\u001b[0m \u001b[0mReadTimeoutError\u001b[0m\u001b[0;34m(\u001b[0m\u001b[0mself\u001b[0m\u001b[0;34m.\u001b[0m\u001b[0m_pool\u001b[0m\u001b[0;34m,\u001b[0m \u001b[0;32mNone\u001b[0m\u001b[0;34m,\u001b[0m \u001b[0;34m\"Read timed out.\"\u001b[0m\u001b[0;34m)\u001b[0m\u001b[0;34m\u001b[0m\u001b[0;34m\u001b[0m\u001b[0m\n\u001b[0m\u001b[1;32m    444\u001b[0m \u001b[0;34m\u001b[0m\u001b[0m\n",
      "\u001b[0;31mReadTimeoutError\u001b[0m: HTTPSConnectionPool(host='cdn-lfs.huggingface.co', port=443): Read timed out.",
      "\nDuring handling of the above exception, another exception occurred:\n",
      "\u001b[0;31mConnectionError\u001b[0m                           Traceback (most recent call last)",
      "\u001b[0;32m/tmp/ipykernel_4887/2421033938.py\u001b[0m in \u001b[0;36m<module>\u001b[0;34m\u001b[0m\n\u001b[1;32m      4\u001b[0m     \u001b[0mcaptions\u001b[0m \u001b[0;34m=\u001b[0m \u001b[0mchunk\u001b[0m\u001b[0;34m.\u001b[0m\u001b[0mcaption\u001b[0m  \u001b[0;31m# Retrieve captions from data chunk\u001b[0m\u001b[0;34m\u001b[0m\u001b[0;34m\u001b[0m\u001b[0m\n\u001b[1;32m      5\u001b[0m     \u001b[0mmodel_name\u001b[0m \u001b[0;34m=\u001b[0m \u001b[0;34m'paraphrase-multilingual-mpnet-base-v2'\u001b[0m\u001b[0;34m\u001b[0m\u001b[0;34m\u001b[0m\u001b[0m\n\u001b[0;32m----> 6\u001b[0;31m     \u001b[0mtranslator\u001b[0m \u001b[0;34m=\u001b[0m \u001b[0mTranslator\u001b[0m\u001b[0;34m(\u001b[0m\u001b[0mmodel_name\u001b[0m\u001b[0;34m=\u001b[0m\u001b[0mmodel_name\u001b[0m\u001b[0;34m,\u001b[0m \u001b[0mmin_score\u001b[0m\u001b[0;34m=\u001b[0m\u001b[0;36m0.85\u001b[0m\u001b[0;34m,\u001b[0m \u001b[0mdevice\u001b[0m\u001b[0;34m=\u001b[0m\u001b[0;34m'cpu'\u001b[0m\u001b[0;34m)\u001b[0m\u001b[0;34m\u001b[0m\u001b[0;34m\u001b[0m\u001b[0m\n\u001b[0m\u001b[1;32m      7\u001b[0m     \u001b[0moutput\u001b[0m \u001b[0;34m=\u001b[0m \u001b[0mtranslator\u001b[0m\u001b[0;34m(\u001b[0m\u001b[0msentences\u001b[0m\u001b[0;34m=\u001b[0m\u001b[0mcaptions\u001b[0m\u001b[0;34m)\u001b[0m\u001b[0;34m\u001b[0m\u001b[0;34m\u001b[0m\u001b[0m\n\u001b[1;32m      8\u001b[0m     \u001b[0mprint\u001b[0m\u001b[0;34m(\u001b[0m\u001b[0moutput\u001b[0m\u001b[0;34m)\u001b[0m\u001b[0;34m\u001b[0m\u001b[0;34m\u001b[0m\u001b[0m\n",
      "\u001b[0;32m/tmp/ipykernel_4887/3361506033.py\u001b[0m in \u001b[0;36m__init__\u001b[0;34m(self, model_name, min_score, device)\u001b[0m\n\u001b[1;32m     16\u001b[0m     \u001b[0;32mdef\u001b[0m \u001b[0m__init__\u001b[0m\u001b[0;34m(\u001b[0m\u001b[0mself\u001b[0m\u001b[0;34m,\u001b[0m \u001b[0mmodel_name\u001b[0m\u001b[0;34m:\u001b[0m\u001b[0mstr\u001b[0m\u001b[0;34m,\u001b[0m \u001b[0mmin_score\u001b[0m\u001b[0;34m:\u001b[0m\u001b[0mfloat\u001b[0m\u001b[0;34m=\u001b[0m\u001b[0;36m.9\u001b[0m\u001b[0;34m,\u001b[0m \u001b[0mdevice\u001b[0m\u001b[0;34m:\u001b[0m\u001b[0mstr\u001b[0m\u001b[0;34m=\u001b[0m\u001b[0;34m'cpu'\u001b[0m\u001b[0;34m)\u001b[0m\u001b[0;34m:\u001b[0m\u001b[0;34m\u001b[0m\u001b[0;34m\u001b[0m\u001b[0m\n\u001b[1;32m     17\u001b[0m         \u001b[0mself\u001b[0m\u001b[0;34m.\u001b[0m\u001b[0mmin_score\u001b[0m \u001b[0;34m=\u001b[0m \u001b[0mmin_score\u001b[0m\u001b[0;34m\u001b[0m\u001b[0;34m\u001b[0m\u001b[0m\n\u001b[0;32m---> 18\u001b[0;31m         \u001b[0mself\u001b[0m\u001b[0;34m.\u001b[0m\u001b[0msimilar\u001b[0m \u001b[0;34m=\u001b[0m \u001b[0mMultiLangSimilarity\u001b[0m\u001b[0;34m(\u001b[0m\u001b[0mmodel_name\u001b[0m\u001b[0;34m=\u001b[0m\u001b[0mmodel_name\u001b[0m\u001b[0;34m,\u001b[0m \u001b[0mdevice\u001b[0m\u001b[0;34m=\u001b[0m\u001b[0mdevice\u001b[0m\u001b[0;34m)\u001b[0m\u001b[0;34m\u001b[0m\u001b[0;34m\u001b[0m\u001b[0m\n\u001b[0m\u001b[1;32m     19\u001b[0m \u001b[0;34m\u001b[0m\u001b[0m\n\u001b[1;32m     20\u001b[0m     \u001b[0;32mdef\u001b[0m \u001b[0m__call__\u001b[0m\u001b[0;34m(\u001b[0m\u001b[0mself\u001b[0m\u001b[0;34m,\u001b[0m \u001b[0msentences\u001b[0m\u001b[0;34m:\u001b[0m\u001b[0mlist\u001b[0m\u001b[0;34m)\u001b[0m\u001b[0;34m:\u001b[0m\u001b[0;34m\u001b[0m\u001b[0;34m\u001b[0m\u001b[0m\n",
      "\u001b[0;32m/tmp/ipykernel_4887/3361506033.py\u001b[0m in \u001b[0;36m__init__\u001b[0;34m(self, model_name, device)\u001b[0m\n\u001b[1;32m      1\u001b[0m \u001b[0;32mclass\u001b[0m \u001b[0mMultiLangSimilarity\u001b[0m\u001b[0;34m(\u001b[0m\u001b[0;34m)\u001b[0m\u001b[0;34m:\u001b[0m\u001b[0;34m\u001b[0m\u001b[0;34m\u001b[0m\u001b[0m\n\u001b[1;32m      2\u001b[0m     \u001b[0;32mdef\u001b[0m \u001b[0m__init__\u001b[0m\u001b[0;34m(\u001b[0m\u001b[0mself\u001b[0m\u001b[0;34m,\u001b[0m \u001b[0mmodel_name\u001b[0m\u001b[0;34m,\u001b[0m \u001b[0mdevice\u001b[0m\u001b[0;34m=\u001b[0m\u001b[0;34m'cpu'\u001b[0m\u001b[0;34m)\u001b[0m\u001b[0;34m:\u001b[0m\u001b[0;34m\u001b[0m\u001b[0;34m\u001b[0m\u001b[0m\n\u001b[0;32m----> 3\u001b[0;31m         \u001b[0mself\u001b[0m\u001b[0;34m.\u001b[0m\u001b[0mmodel\u001b[0m \u001b[0;34m=\u001b[0m \u001b[0mSentenceTransformer\u001b[0m\u001b[0;34m(\u001b[0m\u001b[0mmodel_name\u001b[0m\u001b[0;34m,\u001b[0m \u001b[0mdevice\u001b[0m\u001b[0;34m=\u001b[0m\u001b[0mdevice\u001b[0m\u001b[0;34m)\u001b[0m\u001b[0;34m\u001b[0m\u001b[0;34m\u001b[0m\u001b[0m\n\u001b[0m\u001b[1;32m      4\u001b[0m \u001b[0;34m\u001b[0m\u001b[0m\n\u001b[1;32m      5\u001b[0m     \u001b[0;32mdef\u001b[0m \u001b[0m__call__\u001b[0m\u001b[0;34m(\u001b[0m\u001b[0mself\u001b[0m\u001b[0;34m,\u001b[0m \u001b[0mtext\u001b[0m\u001b[0;34m)\u001b[0m\u001b[0;34m:\u001b[0m\u001b[0;34m\u001b[0m\u001b[0;34m\u001b[0m\u001b[0m\n",
      "\u001b[0;32m~/Programs/miniconda3/envs/basic-ml/lib/python3.8/site-packages/sentence_transformers/SentenceTransformer.py\u001b[0m in \u001b[0;36m__init__\u001b[0;34m(self, model_name_or_path, modules, device, cache_folder)\u001b[0m\n\u001b[1;32m     78\u001b[0m \u001b[0;34m\u001b[0m\u001b[0m\n\u001b[1;32m     79\u001b[0m                 \u001b[0;31m# Download from hub with caching\u001b[0m\u001b[0;34m\u001b[0m\u001b[0;34m\u001b[0m\u001b[0;34m\u001b[0m\u001b[0m\n\u001b[0;32m---> 80\u001b[0;31m                 snapshot_download(model_name_or_path,\n\u001b[0m\u001b[1;32m     81\u001b[0m                                     \u001b[0mcache_dir\u001b[0m\u001b[0;34m=\u001b[0m\u001b[0mcache_folder\u001b[0m\u001b[0;34m,\u001b[0m\u001b[0;34m\u001b[0m\u001b[0;34m\u001b[0m\u001b[0m\n\u001b[1;32m     82\u001b[0m                                     \u001b[0mlibrary_name\u001b[0m\u001b[0;34m=\u001b[0m\u001b[0;34m'sentence-transformers'\u001b[0m\u001b[0;34m,\u001b[0m\u001b[0;34m\u001b[0m\u001b[0;34m\u001b[0m\u001b[0m\n",
      "\u001b[0;32m~/Programs/miniconda3/envs/basic-ml/lib/python3.8/site-packages/sentence_transformers/util.py\u001b[0m in \u001b[0;36msnapshot_download\u001b[0;34m(repo_id, revision, cache_dir, library_name, library_version, user_agent, ignore_files)\u001b[0m\n\u001b[1;32m    452\u001b[0m         \u001b[0mos\u001b[0m\u001b[0;34m.\u001b[0m\u001b[0mmakedirs\u001b[0m\u001b[0;34m(\u001b[0m\u001b[0mnested_dirname\u001b[0m\u001b[0;34m,\u001b[0m \u001b[0mexist_ok\u001b[0m\u001b[0;34m=\u001b[0m\u001b[0;32mTrue\u001b[0m\u001b[0;34m)\u001b[0m\u001b[0;34m\u001b[0m\u001b[0;34m\u001b[0m\u001b[0m\n\u001b[1;32m    453\u001b[0m \u001b[0;34m\u001b[0m\u001b[0m\n\u001b[0;32m--> 454\u001b[0;31m         path = cached_download(\n\u001b[0m\u001b[1;32m    455\u001b[0m             \u001b[0murl\u001b[0m\u001b[0;34m,\u001b[0m\u001b[0;34m\u001b[0m\u001b[0;34m\u001b[0m\u001b[0m\n\u001b[1;32m    456\u001b[0m             \u001b[0mcache_dir\u001b[0m\u001b[0;34m=\u001b[0m\u001b[0mstorage_folder\u001b[0m\u001b[0;34m,\u001b[0m\u001b[0;34m\u001b[0m\u001b[0;34m\u001b[0m\u001b[0m\n",
      "\u001b[0;32m~/Programs/miniconda3/envs/basic-ml/lib/python3.8/site-packages/huggingface_hub/file_download.py\u001b[0m in \u001b[0;36mcached_download\u001b[0;34m(url, library_name, library_version, cache_dir, user_agent, force_download, force_filename, proxies, etag_timeout, resume_download, use_auth_token, local_files_only)\u001b[0m\n\u001b[1;32m    465\u001b[0m             \u001b[0mlogger\u001b[0m\u001b[0;34m.\u001b[0m\u001b[0minfo\u001b[0m\u001b[0;34m(\u001b[0m\u001b[0;34m\"downloading %s to %s\"\u001b[0m\u001b[0;34m,\u001b[0m \u001b[0murl\u001b[0m\u001b[0;34m,\u001b[0m \u001b[0mtemp_file\u001b[0m\u001b[0;34m.\u001b[0m\u001b[0mname\u001b[0m\u001b[0;34m)\u001b[0m\u001b[0;34m\u001b[0m\u001b[0;34m\u001b[0m\u001b[0m\n\u001b[1;32m    466\u001b[0m \u001b[0;34m\u001b[0m\u001b[0m\n\u001b[0;32m--> 467\u001b[0;31m             http_get(\n\u001b[0m\u001b[1;32m    468\u001b[0m                 \u001b[0murl_to_download\u001b[0m\u001b[0;34m,\u001b[0m\u001b[0;34m\u001b[0m\u001b[0;34m\u001b[0m\u001b[0m\n\u001b[1;32m    469\u001b[0m                 \u001b[0mtemp_file\u001b[0m\u001b[0;34m,\u001b[0m\u001b[0;34m\u001b[0m\u001b[0;34m\u001b[0m\u001b[0m\n",
      "\u001b[0;32m~/Programs/miniconda3/envs/basic-ml/lib/python3.8/site-packages/huggingface_hub/file_download.py\u001b[0m in \u001b[0;36mhttp_get\u001b[0;34m(url, temp_file, proxies, resume_size, headers, timeout, max_retries)\u001b[0m\n\u001b[1;32m    283\u001b[0m         \u001b[0mdisable\u001b[0m\u001b[0;34m=\u001b[0m\u001b[0mbool\u001b[0m\u001b[0;34m(\u001b[0m\u001b[0mlogger\u001b[0m\u001b[0;34m.\u001b[0m\u001b[0mgetEffectiveLevel\u001b[0m\u001b[0;34m(\u001b[0m\u001b[0;34m)\u001b[0m \u001b[0;34m==\u001b[0m \u001b[0mlogging\u001b[0m\u001b[0;34m.\u001b[0m\u001b[0mNOTSET\u001b[0m\u001b[0;34m)\u001b[0m\u001b[0;34m,\u001b[0m\u001b[0;34m\u001b[0m\u001b[0;34m\u001b[0m\u001b[0m\n\u001b[1;32m    284\u001b[0m     )\n\u001b[0;32m--> 285\u001b[0;31m     \u001b[0;32mfor\u001b[0m \u001b[0mchunk\u001b[0m \u001b[0;32min\u001b[0m \u001b[0mr\u001b[0m\u001b[0;34m.\u001b[0m\u001b[0miter_content\u001b[0m\u001b[0;34m(\u001b[0m\u001b[0mchunk_size\u001b[0m\u001b[0;34m=\u001b[0m\u001b[0;36m1024\u001b[0m\u001b[0;34m)\u001b[0m\u001b[0;34m:\u001b[0m\u001b[0;34m\u001b[0m\u001b[0;34m\u001b[0m\u001b[0m\n\u001b[0m\u001b[1;32m    286\u001b[0m         \u001b[0;32mif\u001b[0m \u001b[0mchunk\u001b[0m\u001b[0;34m:\u001b[0m  \u001b[0;31m# filter out keep-alive new chunks\u001b[0m\u001b[0;34m\u001b[0m\u001b[0;34m\u001b[0m\u001b[0m\n\u001b[1;32m    287\u001b[0m             \u001b[0mprogress\u001b[0m\u001b[0;34m.\u001b[0m\u001b[0mupdate\u001b[0m\u001b[0;34m(\u001b[0m\u001b[0mlen\u001b[0m\u001b[0;34m(\u001b[0m\u001b[0mchunk\u001b[0m\u001b[0;34m)\u001b[0m\u001b[0;34m)\u001b[0m\u001b[0;34m\u001b[0m\u001b[0;34m\u001b[0m\u001b[0m\n",
      "\u001b[0;32m~/Programs/miniconda3/envs/basic-ml/lib/python3.8/site-packages/requests/models.py\u001b[0m in \u001b[0;36mgenerate\u001b[0;34m()\u001b[0m\n\u001b[1;32m    758\u001b[0m                     \u001b[0;32mraise\u001b[0m \u001b[0mContentDecodingError\u001b[0m\u001b[0;34m(\u001b[0m\u001b[0me\u001b[0m\u001b[0;34m)\u001b[0m\u001b[0;34m\u001b[0m\u001b[0;34m\u001b[0m\u001b[0m\n\u001b[1;32m    759\u001b[0m                 \u001b[0;32mexcept\u001b[0m \u001b[0mReadTimeoutError\u001b[0m \u001b[0;32mas\u001b[0m \u001b[0me\u001b[0m\u001b[0;34m:\u001b[0m\u001b[0;34m\u001b[0m\u001b[0;34m\u001b[0m\u001b[0m\n\u001b[0;32m--> 760\u001b[0;31m                     \u001b[0;32mraise\u001b[0m \u001b[0mConnectionError\u001b[0m\u001b[0;34m(\u001b[0m\u001b[0me\u001b[0m\u001b[0;34m)\u001b[0m\u001b[0;34m\u001b[0m\u001b[0;34m\u001b[0m\u001b[0m\n\u001b[0m\u001b[1;32m    761\u001b[0m             \u001b[0;32melse\u001b[0m\u001b[0;34m:\u001b[0m\u001b[0;34m\u001b[0m\u001b[0;34m\u001b[0m\u001b[0m\n\u001b[1;32m    762\u001b[0m                 \u001b[0;31m# Standard file-like object.\u001b[0m\u001b[0;34m\u001b[0m\u001b[0;34m\u001b[0m\u001b[0;34m\u001b[0m\u001b[0m\n",
      "\u001b[0;31mConnectionError\u001b[0m: HTTPSConnectionPool(host='cdn-lfs.huggingface.co', port=443): Read timed out."
     ]
    }
   ],
   "source": [
    "if __name__ == '__main__':\n",
    "  # loop through chunks\n",
    "  for chunk in chunks:  \n",
    "    captions = chunk.caption  # Retrieve captions from data chunk\n",
    "    model_name = 'paraphrase-multilingual-mpnet-base-v2'\n",
    "    translator = Translator(model_name=model_name, min_score=0.85, device='cpu')\n",
    "    output = translator(sentences=captions)\n",
    "    print(output)\n",
    "    # Append the output to the dataframe\n",
    "    appendToDataFrame(output, df)\n",
    "    saveDataFrame(df)"
   ]
  },
  {
   "cell_type": "code",
   "execution_count": null,
   "metadata": {},
   "outputs": [],
   "source": []
  }
 ],
 "metadata": {
  "colab": {
   "name": "coco_fa.ipynb",
   "provenance": []
  },
  "kernelspec": {
   "display_name": "Python 3 (ipykernel)",
   "language": "python",
   "name": "python3"
  },
  "language_info": {
   "codemirror_mode": {
    "name": "ipython",
    "version": 3
   },
   "file_extension": ".py",
   "mimetype": "text/x-python",
   "name": "python",
   "nbconvert_exporter": "python",
   "pygments_lexer": "ipython3",
   "version": "3.8.10"
  }
 },
 "nbformat": 4,
 "nbformat_minor": 4
}
