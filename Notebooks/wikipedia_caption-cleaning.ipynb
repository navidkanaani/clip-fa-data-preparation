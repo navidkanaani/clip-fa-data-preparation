{
  "nbformat": 4,
  "nbformat_minor": 0,
  "metadata": {
    "colab": {
      "name": "wikipedia_caption.ipynb",
      "provenance": [],
      "collapsed_sections": []
    },
    "kernelspec": {
      "name": "python3",
      "display_name": "Python 3"
    },
    "language_info": {
      "name": "python"
    }
  },
  "cells": [
    {
      "cell_type": "code",
      "metadata": {
        "id": "I0Q6Yw3lKVZR"
      },
      "source": [
        "import os\n",
        "import pandas as pd\n",
        "import numpy as np\n",
        "import urllib.request"
      ],
      "execution_count": null,
      "outputs": []
    },
    {
      "cell_type": "code",
      "metadata": {
        "colab": {
          "base_uri": "https://localhost:8080/"
        },
        "id": "GNNFZna8Ks3f",
        "outputId": "7f2388f3-cfaa-414c-f3e9-74811373f33a"
      },
      "source": [
        "from google.colab import drive\n",
        "drive.mount(\"/content/drive/\")"
      ],
      "execution_count": null,
      "outputs": [
        {
          "output_type": "stream",
          "name": "stdout",
          "text": [
            "Drive already mounted at /content/drive/; to attempt to forcibly remount, call drive.mount(\"/content/drive/\", force_remount=True).\n"
          ]
        }
      ]
    },
    {
      "cell_type": "markdown",
      "source": [
        "## Pre Processing original dataset"
      ],
      "metadata": {
        "id": "HhVAl3NTnL5O"
      }
    },
    {
      "cell_type": "code",
      "metadata": {
        "colab": {
          "base_uri": "https://localhost:8080/",
          "height": 652
        },
        "id": "-SAAoJKwLFno",
        "outputId": "13ad5012-499c-4fa3-fefe-465c0312e795"
      },
      "source": [
        "dfs = pd.read_csv(\"drive/MyDrive/Wikipedia-Image-Captioning/wit_train_farsi.csv\")\n",
        "dfs"
      ],
      "execution_count": null,
      "outputs": [
        {
          "output_type": "execute_result",
          "data": {
            "text/html": [
              "<div>\n",
              "<style scoped>\n",
              "    .dataframe tbody tr th:only-of-type {\n",
              "        vertical-align: middle;\n",
              "    }\n",
              "\n",
              "    .dataframe tbody tr th {\n",
              "        vertical-align: top;\n",
              "    }\n",
              "\n",
              "    .dataframe thead th {\n",
              "        text-align: right;\n",
              "    }\n",
              "</style>\n",
              "<table border=\"1\" class=\"dataframe\">\n",
              "  <thead>\n",
              "    <tr style=\"text-align: right;\">\n",
              "      <th></th>\n",
              "      <th>language</th>\n",
              "      <th>page_url</th>\n",
              "      <th>image_url</th>\n",
              "      <th>page_title</th>\n",
              "      <th>section_title</th>\n",
              "      <th>hierarchical_section_title</th>\n",
              "      <th>caption_reference_description</th>\n",
              "      <th>caption_attribution_description</th>\n",
              "      <th>caption_alt_text_description</th>\n",
              "      <th>mime_type</th>\n",
              "      <th>original_height</th>\n",
              "      <th>original_width</th>\n",
              "      <th>is_main_image</th>\n",
              "      <th>attribution_passes_lang_id</th>\n",
              "      <th>page_changed_recently</th>\n",
              "      <th>context_page_description</th>\n",
              "      <th>context_section_description</th>\n",
              "    </tr>\n",
              "  </thead>\n",
              "  <tbody>\n",
              "    <tr>\n",
              "      <th>0</th>\n",
              "      <td>fa</td>\n",
              "      <td>https://fa.wikipedia.org/wiki/%D8%B6%D8%B1%D8%...</td>\n",
              "      <td>https://upload.wikimedia.org/wikipedia/commons...</td>\n",
              "      <td>ضرابخانه سلطنتی</td>\n",
              "      <td>تاریخچه</td>\n",
              "      <td>ضرابخانه سلطنتی / تاریخچه</td>\n",
              "      <td>ساختمان ضرابخانه سلطنتی از ۱۸۸۰</td>\n",
              "      <td>English: The old Royal Mint building Royal Min...</td>\n",
              "      <td>NaN</td>\n",
              "      <td>image/jpeg</td>\n",
              "      <td>480</td>\n",
              "      <td>640</td>\n",
              "      <td>False</td>\n",
              "      <td>False</td>\n",
              "      <td>False</td>\n",
              "      <td>ضرابخانه سلطنتی یک نهاد مجاز برای ضرب سکه در ب...</td>\n",
              "      <td>NaN</td>\n",
              "    </tr>\n",
              "    <tr>\n",
              "      <th>1</th>\n",
              "      <td>fa</td>\n",
              "      <td>https://fa.wikipedia.org/wiki/%D9%81%D9%87%D8%...</td>\n",
              "      <td>https://upload.wikimedia.org/wikipedia/commons...</td>\n",
              "      <td>فهرست آثار ملی شهرستان تهران</td>\n",
              "      <td>NaN</td>\n",
              "      <td>فهرست آثار ملی شهرستان تهران</td>\n",
              "      <td>تصاویر بیشتر</td>\n",
              "      <td>فارسی: باغ و عمارت عین‌الدوله English: Einoldo...</td>\n",
              "      <td>NaN</td>\n",
              "      <td>image/jpeg</td>\n",
              "      <td>720</td>\n",
              "      <td>1280</td>\n",
              "      <td>False</td>\n",
              "      <td>True</td>\n",
              "      <td>False</td>\n",
              "      <td>این فهرستی از آثار ثبتی شهرستان تهران است.</td>\n",
              "      <td>این فهرستی از آثار ثبتی شهرستان تهران است.</td>\n",
              "    </tr>\n",
              "    <tr>\n",
              "      <th>2</th>\n",
              "      <td>fa</td>\n",
              "      <td>https://fa.wikipedia.org/wiki/%DA%A9%D9%84%DB%...</td>\n",
              "      <td>http://upload.wikimedia.org/wikipedia/commons/...</td>\n",
              "      <td>کلیسای کاشوتی</td>\n",
              "      <td>NaN</td>\n",
              "      <td>کلیسای کاشوتی</td>\n",
              "      <td>NaN</td>\n",
              "      <td>Kashveti Church in Tbilisi</td>\n",
              "      <td>NaN</td>\n",
              "      <td>image/jpeg</td>\n",
              "      <td>616</td>\n",
              "      <td>741</td>\n",
              "      <td>True</td>\n",
              "      <td>False</td>\n",
              "      <td>False</td>\n",
              "      <td>کلیسای کاشوتی جرجیس یک کلیسای ارتدکس گرجی است ...</td>\n",
              "      <td>کلیسای کاشوتی جرجیس (گرجی: ქაშვეთის წმინდა გიო...</td>\n",
              "    </tr>\n",
              "    <tr>\n",
              "      <th>3</th>\n",
              "      <td>fa</td>\n",
              "      <td>https://fa.wikipedia.org/wiki/%D8%B1%D9%87%D8%...</td>\n",
              "      <td>https://upload.wikimedia.org/wikipedia/commons...</td>\n",
              "      <td>رهبران زن</td>\n",
              "      <td>Elected female heads of state or government</td>\n",
              "      <td>رهبران زن / Elected female heads of state or g...</td>\n",
              "      <td>NaN</td>\n",
              "      <td>For documentary purposes the German Federal Ar...</td>\n",
              "      <td>NaN</td>\n",
              "      <td>image/jpeg</td>\n",
              "      <td>792</td>\n",
              "      <td>552</td>\n",
              "      <td>False</td>\n",
              "      <td>False</td>\n",
              "      <td>True</td>\n",
              "      <td>رهبران زن به زنانی اطلاق می‌شود که در تاریخ کش...</td>\n",
              "      <td>{{زیرنویس نقشه|#FFC0CB|متصدی head of state or ...</td>\n",
              "    </tr>\n",
              "    <tr>\n",
              "      <th>4</th>\n",
              "      <td>fa</td>\n",
              "      <td>https://fa.wikipedia.org/wiki/%DA%A9%D8%A7%D8%...</td>\n",
              "      <td>http://upload.wikimedia.org/wikipedia/commons/...</td>\n",
              "      <td>کارلوس مویا</td>\n",
              "      <td>NaN</td>\n",
              "      <td>کارلوس مویا</td>\n",
              "      <td>NaN</td>\n",
              "      <td>Thomas 'Indianas' Bohane at his quarterfinal m...</td>\n",
              "      <td>NaN</td>\n",
              "      <td>image/jpeg</td>\n",
              "      <td>2136</td>\n",
              "      <td>1370</td>\n",
              "      <td>True</td>\n",
              "      <td>False</td>\n",
              "      <td>False</td>\n",
              "      <td>کارلوس مویا یک تنیس‌باز اهل اسپانیا است.</td>\n",
              "      <td>کارلوس مویا (کاتالونیایی: Carles Moyà Llompart...</td>\n",
              "    </tr>\n",
              "    <tr>\n",
              "      <th>...</th>\n",
              "      <td>...</td>\n",
              "      <td>...</td>\n",
              "      <td>...</td>\n",
              "      <td>...</td>\n",
              "      <td>...</td>\n",
              "      <td>...</td>\n",
              "      <td>...</td>\n",
              "      <td>...</td>\n",
              "      <td>...</td>\n",
              "      <td>...</td>\n",
              "      <td>...</td>\n",
              "      <td>...</td>\n",
              "      <td>...</td>\n",
              "      <td>...</td>\n",
              "      <td>...</td>\n",
              "      <td>...</td>\n",
              "      <td>...</td>\n",
              "    </tr>\n",
              "    <tr>\n",
              "      <th>485538</th>\n",
              "      <td>fa</td>\n",
              "      <td>https://fa.wikipedia.org/wiki/%D8%B2%D9%86%D8%...</td>\n",
              "      <td>http://upload.wikimedia.org/wikipedia/commons/...</td>\n",
              "      <td>زنجیره مارکوف</td>\n",
              "      <td>NaN</td>\n",
              "      <td>زنجیره مارکوف</td>\n",
              "      <td>نمونه‌ای از زنجیره مارکوف با سه حالت</td>\n",
              "      <td>NaN</td>\n",
              "      <td>NaN</td>\n",
              "      <td>image/svg+xml</td>\n",
              "      <td>170</td>\n",
              "      <td>175</td>\n",
              "      <td>False</td>\n",
              "      <td>False</td>\n",
              "      <td>False</td>\n",
              "      <td>زنجیره مارکوف مدلی تصادفی برای توصیف یک توالی ...</td>\n",
              "      <td>زنجیره مارکوف مدلی تصادفی برای توصیف یک توالی ...</td>\n",
              "    </tr>\n",
              "    <tr>\n",
              "      <th>485539</th>\n",
              "      <td>fa</td>\n",
              "      <td>https://fa.wikipedia.org/wiki/%DA%A9%D9%88%D8%...</td>\n",
              "      <td>https://upload.wikimedia.org/wikipedia/commons...</td>\n",
              "      <td>کوررنگی</td>\n",
              "      <td>علت</td>\n",
              "      <td>کوررنگی / علت</td>\n",
              "      <td>منحنی نشان‌دهندهٔ میزان تحریک هر کدام از ۳ نوع...</td>\n",
              "      <td>The Stockman and Sharpe (2000) 2° cone fundame...</td>\n",
              "      <td>NaN</td>\n",
              "      <td>image/png</td>\n",
              "      <td>501</td>\n",
              "      <td>772</td>\n",
              "      <td>False</td>\n",
              "      <td>False</td>\n",
              "      <td>False</td>\n",
              "      <td>کوررنگی یک بیماری اختلال ارثی است که در آن فرد...</td>\n",
              "      <td>سلول‌های مخروطی نوعی از سلول‌های گیرندهٔ نور ه...</td>\n",
              "    </tr>\n",
              "    <tr>\n",
              "      <th>485540</th>\n",
              "      <td>fa</td>\n",
              "      <td>https://fa.wikipedia.org/wiki/%D9%85%D9%88%D8%...</td>\n",
              "      <td>https://upload.wikimedia.org/wikipedia/commons...</td>\n",
              "      <td>موش صحرایی ژاپنی بزرگ</td>\n",
              "      <td>NaN</td>\n",
              "      <td>موش صحرایی ژاپنی بزرگ</td>\n",
              "      <td>NaN</td>\n",
              "      <td>Apodemus speciosus(Large Japanese field mouse)</td>\n",
              "      <td>NaN</td>\n",
              "      <td>image/jpeg</td>\n",
              "      <td>450</td>\n",
              "      <td>600</td>\n",
              "      <td>True</td>\n",
              "      <td>False</td>\n",
              "      <td>False</td>\n",
              "      <td>موش صحرایی ژاپنی بزرگ نام یک گونه از تیره موشا...</td>\n",
              "      <td>موش صحرایی ژاپنی بزرگ (نام علمی: Apodemus spec...</td>\n",
              "    </tr>\n",
              "    <tr>\n",
              "      <th>485541</th>\n",
              "      <td>fa</td>\n",
              "      <td>https://fa.wikipedia.org/wiki/%DA%AF%D8%A7%D8%...</td>\n",
              "      <td>https://upload.wikimedia.org/wikipedia/commons...</td>\n",
              "      <td>گادنی</td>\n",
              "      <td>NaN</td>\n",
              "      <td>گادنی</td>\n",
              "      <td>NaN</td>\n",
              "      <td>Pill Box in Upper Godney</td>\n",
              "      <td>NaN</td>\n",
              "      <td>image/jpeg</td>\n",
              "      <td>640</td>\n",
              "      <td>480</td>\n",
              "      <td>True</td>\n",
              "      <td>False</td>\n",
              "      <td>False</td>\n",
              "      <td>گادنی یک روستا و محله مدنی در بریتانیا است که ...</td>\n",
              "      <td>گادنی (به انگلیسی: Godney) یک روستا و محله مدن...</td>\n",
              "    </tr>\n",
              "    <tr>\n",
              "      <th>485542</th>\n",
              "      <td>fa</td>\n",
              "      <td>https://fa.wikipedia.org/wiki/%D8%B2%D8%A7%D9%...</td>\n",
              "      <td>https://upload.wikimedia.org/wikipedia/commons...</td>\n",
              "      <td>زانکت گالانکیرچ</td>\n",
              "      <td>NaN</td>\n",
              "      <td>زانکت گالانکیرچ</td>\n",
              "      <td>NaN</td>\n",
              "      <td>Deutsch: Pfarrkirche hl. Gallus in Sankt Galle...</td>\n",
              "      <td>NaN</td>\n",
              "      <td>image/jpeg</td>\n",
              "      <td>2730</td>\n",
              "      <td>4156</td>\n",
              "      <td>True</td>\n",
              "      <td>False</td>\n",
              "      <td>False</td>\n",
              "      <td>زانکت گالانکیرچ یک شهر در اتریش است که در ناحی...</td>\n",
              "      <td>زانکت گالانکیرچ (به آلمانی: Sankt Gallenkirch)...</td>\n",
              "    </tr>\n",
              "  </tbody>\n",
              "</table>\n",
              "<p>485543 rows × 17 columns</p>\n",
              "</div>"
            ],
            "text/plain": [
              "       language  ...                        context_section_description\n",
              "0            fa  ...                                                NaN\n",
              "1            fa  ...         این فهرستی از آثار ثبتی شهرستان تهران است.\n",
              "2            fa  ...  کلیسای کاشوتی جرجیس (گرجی: ქაშვეთის წმინდა გიო...\n",
              "3            fa  ...  {{زیرنویس نقشه|#FFC0CB|متصدی head of state or ...\n",
              "4            fa  ...  کارلوس مویا (کاتالونیایی: Carles Moyà Llompart...\n",
              "...         ...  ...                                                ...\n",
              "485538       fa  ...  زنجیره مارکوف مدلی تصادفی برای توصیف یک توالی ...\n",
              "485539       fa  ...  سلول‌های مخروطی نوعی از سلول‌های گیرندهٔ نور ه...\n",
              "485540       fa  ...  موش صحرایی ژاپنی بزرگ (نام علمی: Apodemus spec...\n",
              "485541       fa  ...  گادنی (به انگلیسی: Godney) یک روستا و محله مدن...\n",
              "485542       fa  ...  زانکت گالانکیرچ (به آلمانی: Sankt Gallenkirch)...\n",
              "\n",
              "[485543 rows x 17 columns]"
            ]
          },
          "metadata": {},
          "execution_count": 3
        }
      ]
    },
    {
      "cell_type": "code",
      "metadata": {
        "colab": {
          "base_uri": "https://localhost:8080/"
        },
        "id": "CnoOQXVELcP_",
        "outputId": "2f0b0874-1b06-4173-8c6b-6eac8ce8074a"
      },
      "source": [
        "dfs.info()"
      ],
      "execution_count": null,
      "outputs": [
        {
          "output_type": "stream",
          "name": "stdout",
          "text": [
            "<class 'pandas.core.frame.DataFrame'>\n",
            "RangeIndex: 485543 entries, 0 to 485542\n",
            "Data columns (total 17 columns):\n",
            " #   Column                           Non-Null Count   Dtype \n",
            "---  ------                           --------------   ----- \n",
            " 0   language                         485543 non-null  object\n",
            " 1   page_url                         485543 non-null  object\n",
            " 2   image_url                        485543 non-null  object\n",
            " 3   page_title                       485543 non-null  object\n",
            " 4   section_title                    179301 non-null  object\n",
            " 5   hierarchical_section_title       485543 non-null  object\n",
            " 6   caption_reference_description    148095 non-null  object\n",
            " 7   caption_attribution_description  466724 non-null  object\n",
            " 8   caption_alt_text_description     73151 non-null   object\n",
            " 9   mime_type                        485543 non-null  object\n",
            " 10  original_height                  485543 non-null  int64 \n",
            " 11  original_width                   485543 non-null  int64 \n",
            " 12  is_main_image                    485543 non-null  bool  \n",
            " 13  attribution_passes_lang_id       485543 non-null  bool  \n",
            " 14  page_changed_recently            485543 non-null  bool  \n",
            " 15  context_page_description         485191 non-null  object\n",
            " 16  context_section_description      371311 non-null  object\n",
            "dtypes: bool(3), int64(2), object(12)\n",
            "memory usage: 53.3+ MB\n"
          ]
        }
      ]
    },
    {
      "cell_type": "code",
      "metadata": {
        "id": "kh0aeCtKLlf0"
      },
      "source": [
        "pd.options.display.max_colwidth = 50"
      ],
      "execution_count": null,
      "outputs": []
    },
    {
      "cell_type": "code",
      "metadata": {
        "colab": {
          "base_uri": "https://localhost:8080/",
          "height": 35
        },
        "id": "pVJ506zuMCsX",
        "outputId": "c5f6a648-e2e0-40e1-958a-acb99f0f138d"
      },
      "source": [
        "dfs.iloc[3, 1]"
      ],
      "execution_count": null,
      "outputs": [
        {
          "output_type": "execute_result",
          "data": {
            "application/vnd.google.colaboratory.intrinsic+json": {
              "type": "string"
            },
            "text/plain": [
              "'https://fa.wikipedia.org/wiki/%D8%B1%D9%87%D8%A8%D8%B1%D8%A7%D9%86_%D8%B2%D9%86'"
            ]
          },
          "metadata": {},
          "execution_count": 6
        }
      ]
    },
    {
      "cell_type": "code",
      "metadata": {
        "colab": {
          "base_uri": "https://localhost:8080/",
          "height": 35
        },
        "id": "9RvtpoqmM1YB",
        "outputId": "96e76b55-9183-42ae-92c0-4e2c51e8691b"
      },
      "source": [
        "dfs.iloc[3, 2]"
      ],
      "execution_count": null,
      "outputs": [
        {
          "output_type": "execute_result",
          "data": {
            "application/vnd.google.colaboratory.intrinsic+json": {
              "type": "string"
            },
            "text/plain": [
              "'https://upload.wikimedia.org/wikipedia/commons/8/8f/Bundesarchiv_Bild_183-1987-0305-114%2C_Berlin%2C_XII._DFD-Kongress.jpg'"
            ]
          },
          "metadata": {},
          "execution_count": 7
        }
      ]
    },
    {
      "cell_type": "code",
      "metadata": {
        "id": "ga7vN_cVNeae"
      },
      "source": [
        "dfs2 = pd.DataFrame.copy(dfs.loc[dfs.caption_reference_description.isna() == False])"
      ],
      "execution_count": null,
      "outputs": []
    },
    {
      "cell_type": "code",
      "metadata": {
        "colab": {
          "base_uri": "https://localhost:8080/"
        },
        "id": "HaVsCuhbS5CX",
        "outputId": "f41d5681-cf41-4f83-b91f-b41fcdb040c6"
      },
      "source": [
        "dfs2.info()"
      ],
      "execution_count": null,
      "outputs": [
        {
          "output_type": "stream",
          "name": "stdout",
          "text": [
            "<class 'pandas.core.frame.DataFrame'>\n",
            "Int64Index: 148095 entries, 0 to 485539\n",
            "Data columns (total 17 columns):\n",
            " #   Column                           Non-Null Count   Dtype \n",
            "---  ------                           --------------   ----- \n",
            " 0   language                         148095 non-null  object\n",
            " 1   page_url                         148095 non-null  object\n",
            " 2   image_url                        148095 non-null  object\n",
            " 3   page_title                       148095 non-null  object\n",
            " 4   section_title                    50914 non-null   object\n",
            " 5   hierarchical_section_title       148095 non-null  object\n",
            " 6   caption_reference_description    148095 non-null  object\n",
            " 7   caption_attribution_description  129276 non-null  object\n",
            " 8   caption_alt_text_description     10459 non-null   object\n",
            " 9   mime_type                        148095 non-null  object\n",
            " 10  original_height                  148095 non-null  int64 \n",
            " 11  original_width                   148095 non-null  int64 \n",
            " 12  is_main_image                    148095 non-null  bool  \n",
            " 13  attribution_passes_lang_id       148095 non-null  bool  \n",
            " 14  page_changed_recently            148095 non-null  bool  \n",
            " 15  context_page_description         148070 non-null  object\n",
            " 16  context_section_description      142352 non-null  object\n",
            "dtypes: bool(3), int64(2), object(12)\n",
            "memory usage: 17.4+ MB\n"
          ]
        }
      ]
    },
    {
      "cell_type": "code",
      "metadata": {
        "colab": {
          "base_uri": "https://localhost:8080/"
        },
        "id": "zXynHcrFsNqo",
        "outputId": "cf475b50-3743-4dda-d8b6-c80d452ae03d"
      },
      "source": [
        "dfs.columns[np.sum(dfs2.isna()) > 0]"
      ],
      "execution_count": null,
      "outputs": [
        {
          "output_type": "execute_result",
          "data": {
            "text/plain": [
              "Index(['section_title', 'caption_attribution_description',\n",
              "       'caption_alt_text_description', 'context_page_description',\n",
              "       'context_section_description'],\n",
              "      dtype='object')"
            ]
          },
          "metadata": {},
          "execution_count": 10
        }
      ]
    },
    {
      "cell_type": "code",
      "metadata": {
        "id": "CAEqiljmt8SQ"
      },
      "source": [
        "dropable = ['language', 'section_title', 'hierarchical_section_title', 'caption_alt_text_description', 'mime_type', 'original_height', 'original_width',\n",
        "            'is_main_image', 'attribution_passes_lang_id', 'page_changed_recently', 'context_section_description', 'caption_attribution_description']"
      ],
      "execution_count": null,
      "outputs": []
    },
    {
      "cell_type": "code",
      "metadata": {
        "id": "iZ1ypW1g5YH3"
      },
      "source": [
        "dfs2.drop(dropable, axis=1, inplace=True)"
      ],
      "execution_count": null,
      "outputs": []
    },
    {
      "cell_type": "code",
      "metadata": {
        "colab": {
          "base_uri": "https://localhost:8080/",
          "height": 597
        },
        "id": "4s0YV-QU5cFB",
        "outputId": "6a1a571d-31fd-434d-b80e-a69ab9989613"
      },
      "source": [
        "dfs2"
      ],
      "execution_count": null,
      "outputs": [
        {
          "output_type": "execute_result",
          "data": {
            "text/html": [
              "<div>\n",
              "<style scoped>\n",
              "    .dataframe tbody tr th:only-of-type {\n",
              "        vertical-align: middle;\n",
              "    }\n",
              "\n",
              "    .dataframe tbody tr th {\n",
              "        vertical-align: top;\n",
              "    }\n",
              "\n",
              "    .dataframe thead th {\n",
              "        text-align: right;\n",
              "    }\n",
              "</style>\n",
              "<table border=\"1\" class=\"dataframe\">\n",
              "  <thead>\n",
              "    <tr style=\"text-align: right;\">\n",
              "      <th></th>\n",
              "      <th>page_url</th>\n",
              "      <th>image_url</th>\n",
              "      <th>page_title</th>\n",
              "      <th>caption_reference_description</th>\n",
              "      <th>context_page_description</th>\n",
              "    </tr>\n",
              "  </thead>\n",
              "  <tbody>\n",
              "    <tr>\n",
              "      <th>0</th>\n",
              "      <td>https://fa.wikipedia.org/wiki/%D8%B6%D8%B1%D8%...</td>\n",
              "      <td>https://upload.wikimedia.org/wikipedia/commons...</td>\n",
              "      <td>ضرابخانه سلطنتی</td>\n",
              "      <td>ساختمان ضرابخانه سلطنتی از ۱۸۸۰</td>\n",
              "      <td>ضرابخانه سلطنتی یک نهاد مجاز برای ضرب سکه در ب...</td>\n",
              "    </tr>\n",
              "    <tr>\n",
              "      <th>1</th>\n",
              "      <td>https://fa.wikipedia.org/wiki/%D9%81%D9%87%D8%...</td>\n",
              "      <td>https://upload.wikimedia.org/wikipedia/commons...</td>\n",
              "      <td>فهرست آثار ملی شهرستان تهران</td>\n",
              "      <td>تصاویر بیشتر</td>\n",
              "      <td>این فهرستی از آثار ثبتی شهرستان تهران است.</td>\n",
              "    </tr>\n",
              "    <tr>\n",
              "      <th>8</th>\n",
              "      <td>https://fa.wikipedia.org/wiki/%D9%84%D9%88%D8%...</td>\n",
              "      <td>https://upload.wikimedia.org/wikipedia/commons...</td>\n",
              "      <td>لوتار فون مایر</td>\n",
              "      <td>یولیوس لوتار مایر</td>\n",
              "      <td>یولیوس لوتار فون مایر شیمی‌دان آلمانی هم دورهٔ...</td>\n",
              "    </tr>\n",
              "    <tr>\n",
              "      <th>10</th>\n",
              "      <td>https://fa.wikipedia.org/wiki/%D9%81%DB%8C%D9%...</td>\n",
              "      <td>https://upload.wikimedia.org/wikipedia/commons...</td>\n",
              "      <td>فینال مسابقات باشگاهی قهرمانی آسیا ۱۹۷۰</td>\n",
              "      <td>تماشاگران از ساعت‌ها پیش از آغاز بازی در ورزشگ...</td>\n",
              "      <td>فینال مسابقات باشگاهی قهرمانی آسیا ۱۹۷۰ یک مسا...</td>\n",
              "    </tr>\n",
              "    <tr>\n",
              "      <th>15</th>\n",
              "      <td>https://fa.wikipedia.org/wiki/%D8%B4%DB%8C%D8%...</td>\n",
              "      <td>https://upload.wikimedia.org/wikipedia/commons...</td>\n",
              "      <td>شیء ناشناس پرنده</td>\n",
              "      <td>عکس گرفته‌شده از تصویر احتمالیِ یک بشقاب‌پرنده...</td>\n",
              "      <td>شیءِ ناشناسِ پرنده، که در فارسی به آن بشقاب پر...</td>\n",
              "    </tr>\n",
              "    <tr>\n",
              "      <th>...</th>\n",
              "      <td>...</td>\n",
              "      <td>...</td>\n",
              "      <td>...</td>\n",
              "      <td>...</td>\n",
              "      <td>...</td>\n",
              "    </tr>\n",
              "    <tr>\n",
              "      <th>485529</th>\n",
              "      <td>https://fa.wikipedia.org/wiki/%D9%84%DB%8C%D9%...</td>\n",
              "      <td>https://upload.wikimedia.org/wikipedia/commons...</td>\n",
              "      <td>لیناردو نایتو دی ماکیدو</td>\n",
              "      <td>Netto being presented by Hunan Billows</td>\n",
              "      <td>لیناردو نایتو دی ماکیدو مهاجم اهل برزیل است که...</td>\n",
              "    </tr>\n",
              "    <tr>\n",
              "      <th>485534</th>\n",
              "      <td>https://fa.wikipedia.org/wiki/%D9%BE%D8%B1%DA%...</td>\n",
              "      <td>https://upload.wikimedia.org/wikipedia/commons...</td>\n",
              "      <td>پرچم لهستان</td>\n",
              "      <td>گونه دیگر از پرچم لهستان</td>\n",
              "      <td>پرچم لهستان از دو نوار افقی هم عرض تشکیل شده‌ا...</td>\n",
              "    </tr>\n",
              "    <tr>\n",
              "      <th>485537</th>\n",
              "      <td>https://fa.wikipedia.org/wiki/%D8%B5%D8%A7%D9%...</td>\n",
              "      <td>https://upload.wikimedia.org/wikipedia/commons...</td>\n",
              "      <td>صالح کوتاه</td>\n",
              "      <td>نقشه دیتر امان فرانسوی از اندیکا در سال 1910 (...</td>\n",
              "      <td>صالح کوتاه، روستایی از توابع شهرستان اندیکا در...</td>\n",
              "    </tr>\n",
              "    <tr>\n",
              "      <th>485538</th>\n",
              "      <td>https://fa.wikipedia.org/wiki/%D8%B2%D9%86%D8%...</td>\n",
              "      <td>http://upload.wikimedia.org/wikipedia/commons/...</td>\n",
              "      <td>زنجیره مارکوف</td>\n",
              "      <td>نمونه‌ای از زنجیره مارکوف با سه حالت</td>\n",
              "      <td>زنجیره مارکوف مدلی تصادفی برای توصیف یک توالی ...</td>\n",
              "    </tr>\n",
              "    <tr>\n",
              "      <th>485539</th>\n",
              "      <td>https://fa.wikipedia.org/wiki/%DA%A9%D9%88%D8%...</td>\n",
              "      <td>https://upload.wikimedia.org/wikipedia/commons...</td>\n",
              "      <td>کوررنگی</td>\n",
              "      <td>منحنی نشان‌دهندهٔ میزان تحریک هر کدام از ۳ نوع...</td>\n",
              "      <td>کوررنگی یک بیماری اختلال ارثی است که در آن فرد...</td>\n",
              "    </tr>\n",
              "  </tbody>\n",
              "</table>\n",
              "<p>148095 rows × 5 columns</p>\n",
              "</div>"
            ],
            "text/plain": [
              "                                                 page_url  ...                           context_page_description\n",
              "0       https://fa.wikipedia.org/wiki/%D8%B6%D8%B1%D8%...  ...  ضرابخانه سلطنتی یک نهاد مجاز برای ضرب سکه در ب...\n",
              "1       https://fa.wikipedia.org/wiki/%D9%81%D9%87%D8%...  ...         این فهرستی از آثار ثبتی شهرستان تهران است.\n",
              "8       https://fa.wikipedia.org/wiki/%D9%84%D9%88%D8%...  ...  یولیوس لوتار فون مایر شیمی‌دان آلمانی هم دورهٔ...\n",
              "10      https://fa.wikipedia.org/wiki/%D9%81%DB%8C%D9%...  ...  فینال مسابقات باشگاهی قهرمانی آسیا ۱۹۷۰ یک مسا...\n",
              "15      https://fa.wikipedia.org/wiki/%D8%B4%DB%8C%D8%...  ...  شیءِ ناشناسِ پرنده، که در فارسی به آن بشقاب پر...\n",
              "...                                                   ...  ...                                                ...\n",
              "485529  https://fa.wikipedia.org/wiki/%D9%84%DB%8C%D9%...  ...  لیناردو نایتو دی ماکیدو مهاجم اهل برزیل است که...\n",
              "485534  https://fa.wikipedia.org/wiki/%D9%BE%D8%B1%DA%...  ...  پرچم لهستان از دو نوار افقی هم عرض تشکیل شده‌ا...\n",
              "485537  https://fa.wikipedia.org/wiki/%D8%B5%D8%A7%D9%...  ...  صالح کوتاه، روستایی از توابع شهرستان اندیکا در...\n",
              "485538  https://fa.wikipedia.org/wiki/%D8%B2%D9%86%D8%...  ...  زنجیره مارکوف مدلی تصادفی برای توصیف یک توالی ...\n",
              "485539  https://fa.wikipedia.org/wiki/%DA%A9%D9%88%D8%...  ...  کوررنگی یک بیماری اختلال ارثی است که در آن فرد...\n",
              "\n",
              "[148095 rows x 5 columns]"
            ]
          },
          "metadata": {},
          "execution_count": 13
        }
      ]
    },
    {
      "cell_type": "code",
      "metadata": {
        "colab": {
          "base_uri": "https://localhost:8080/"
        },
        "id": "p8GV3NOHO47g",
        "outputId": "e343222e-8bd7-44da-fed9-1b0ae03fdf5e"
      },
      "source": [
        "dfs2.info()"
      ],
      "execution_count": null,
      "outputs": [
        {
          "output_type": "stream",
          "name": "stdout",
          "text": [
            "<class 'pandas.core.frame.DataFrame'>\n",
            "Int64Index: 148095 entries, 0 to 485539\n",
            "Data columns (total 5 columns):\n",
            " #   Column                         Non-Null Count   Dtype \n",
            "---  ------                         --------------   ----- \n",
            " 0   page_url                       148095 non-null  object\n",
            " 1   image_url                      148095 non-null  object\n",
            " 2   page_title                     148095 non-null  object\n",
            " 3   caption_reference_description  148095 non-null  object\n",
            " 4   context_page_description       148070 non-null  object\n",
            "dtypes: object(5)\n",
            "memory usage: 6.8+ MB\n"
          ]
        }
      ]
    },
    {
      "cell_type": "code",
      "metadata": {
        "colab": {
          "base_uri": "https://localhost:8080/",
          "height": 49
        },
        "id": "K599bSs4O50c",
        "outputId": "23c6d8c0-e06f-46a5-af82-b609837b4d88"
      },
      "source": [
        "dfs2.loc[dfs2.context_page_description.isna()]"
      ],
      "execution_count": null,
      "outputs": [
        {
          "output_type": "execute_result",
          "data": {
            "text/html": [
              "<div>\n",
              "<style scoped>\n",
              "    .dataframe tbody tr th:only-of-type {\n",
              "        vertical-align: middle;\n",
              "    }\n",
              "\n",
              "    .dataframe tbody tr th {\n",
              "        vertical-align: top;\n",
              "    }\n",
              "\n",
              "    .dataframe thead th {\n",
              "        text-align: right;\n",
              "    }\n",
              "</style>\n",
              "<table border=\"1\" class=\"dataframe\">\n",
              "  <thead>\n",
              "    <tr style=\"text-align: right;\">\n",
              "      <th></th>\n",
              "      <th>page_url</th>\n",
              "      <th>image_url</th>\n",
              "      <th>page_title</th>\n",
              "      <th>caption_reference_description</th>\n",
              "      <th>context_page_description</th>\n",
              "    </tr>\n",
              "  </thead>\n",
              "  <tbody>\n",
              "  </tbody>\n",
              "</table>\n",
              "</div>"
            ],
            "text/plain": [
              "Empty DataFrame\n",
              "Columns: [page_url, image_url, page_title, caption_reference_description, context_page_description]\n",
              "Index: []"
            ]
          },
          "metadata": {},
          "execution_count": 25
        }
      ]
    },
    {
      "cell_type": "code",
      "metadata": {
        "id": "qnxtrywnClkX"
      },
      "source": [
        "dfs2.dropna(inplace=True)"
      ],
      "execution_count": null,
      "outputs": []
    },
    {
      "cell_type": "code",
      "metadata": {
        "colab": {
          "base_uri": "https://localhost:8080/"
        },
        "id": "8gkLh11wCgXL",
        "outputId": "79af2d50-e5da-4f66-f3c5-86fcf247f271"
      },
      "source": [
        "dfs2.info()"
      ],
      "execution_count": null,
      "outputs": [
        {
          "output_type": "stream",
          "name": "stdout",
          "text": [
            "<class 'pandas.core.frame.DataFrame'>\n",
            "Int64Index: 148070 entries, 0 to 485539\n",
            "Data columns (total 5 columns):\n",
            " #   Column                         Non-Null Count   Dtype \n",
            "---  ------                         --------------   ----- \n",
            " 0   page_url                       148070 non-null  object\n",
            " 1   image_url                      148070 non-null  object\n",
            " 2   page_title                     148070 non-null  object\n",
            " 3   caption_reference_description  148070 non-null  object\n",
            " 4   context_page_description       148070 non-null  object\n",
            "dtypes: object(5)\n",
            "memory usage: 6.8+ MB\n"
          ]
        }
      ]
    },
    {
      "cell_type": "code",
      "metadata": {
        "colab": {
          "base_uri": "https://localhost:8080/",
          "height": 35
        },
        "id": "0uILs_r5PA6f",
        "outputId": "ce051365-38b7-4d0e-9081-6a0813c1c27f"
      },
      "source": [
        "dfs2.loc[3921].image_url"
      ],
      "execution_count": null,
      "outputs": [
        {
          "output_type": "execute_result",
          "data": {
            "application/vnd.google.colaboratory.intrinsic+json": {
              "type": "string"
            },
            "text/plain": [
              "'http://upload.wikimedia.org/wikipedia/commons/5/5a/Santa_Fe_NM.jpg'"
            ]
          },
          "metadata": {},
          "execution_count": 16
        }
      ]
    },
    {
      "cell_type": "code",
      "metadata": {
        "id": "iJsaRfFnPTUd"
      },
      "source": [
        "dfs2.to_csv(\"./wiki_ic.csv\", index=False)"
      ],
      "execution_count": null,
      "outputs": []
    },
    {
      "cell_type": "code",
      "metadata": {
        "id": "hSdp1ugj6tsF"
      },
      "source": [
        "drive.flush_and_unmount()"
      ],
      "execution_count": null,
      "outputs": []
    },
    {
      "cell_type": "code",
      "metadata": {
        "id": "mUdAeZObAjVR"
      },
      "source": [
        "!mv wiki_ic.csv drive/MyDrive/Wikipedia-Image-Captioning/"
      ],
      "execution_count": null,
      "outputs": []
    },
    {
      "cell_type": "code",
      "metadata": {
        "id": "b9dCIcRHAodU"
      },
      "source": [
        ""
      ],
      "execution_count": null,
      "outputs": []
    },
    {
      "cell_type": "markdown",
      "source": [
        "## Cleaning data 🧹"
      ],
      "metadata": {
        "id": "_eqEn2fRMJr5"
      }
    },
    {
      "cell_type": "code",
      "metadata": {
        "id": "jtsxaxY7_ouA",
        "colab": {
          "base_uri": "https://localhost:8080/",
          "height": 424
        },
        "outputId": "39daef7d-4819-43a2-c833-7ffae75772dd"
      },
      "source": [
        "df = pd.read_csv(\"/content/drive/MyDrive/wikiPedia_ic/wiki_ic.csv\")\n",
        "df"
      ],
      "execution_count": null,
      "outputs": [
        {
          "output_type": "execute_result",
          "data": {
            "text/html": [
              "<div>\n",
              "<style scoped>\n",
              "    .dataframe tbody tr th:only-of-type {\n",
              "        vertical-align: middle;\n",
              "    }\n",
              "\n",
              "    .dataframe tbody tr th {\n",
              "        vertical-align: top;\n",
              "    }\n",
              "\n",
              "    .dataframe thead th {\n",
              "        text-align: right;\n",
              "    }\n",
              "</style>\n",
              "<table border=\"1\" class=\"dataframe\">\n",
              "  <thead>\n",
              "    <tr style=\"text-align: right;\">\n",
              "      <th></th>\n",
              "      <th>page_url</th>\n",
              "      <th>image_url</th>\n",
              "      <th>page_title</th>\n",
              "      <th>caption_reference_description</th>\n",
              "      <th>context_page_description</th>\n",
              "    </tr>\n",
              "  </thead>\n",
              "  <tbody>\n",
              "    <tr>\n",
              "      <th>0</th>\n",
              "      <td>https://fa.wikipedia.org/wiki/%D8%B6%D8%B1%D8%...</td>\n",
              "      <td>https://upload.wikimedia.org/wikipedia/commons...</td>\n",
              "      <td>ضرابخانه سلطنتی</td>\n",
              "      <td>ساختمان ضرابخانه سلطنتی از ۱۸۸۰</td>\n",
              "      <td>ضرابخانه سلطنتی یک نهاد مجاز برای ضرب سکه در ب...</td>\n",
              "    </tr>\n",
              "    <tr>\n",
              "      <th>1</th>\n",
              "      <td>https://fa.wikipedia.org/wiki/%D9%81%D9%87%D8%...</td>\n",
              "      <td>https://upload.wikimedia.org/wikipedia/commons...</td>\n",
              "      <td>فهرست آثار ملی شهرستان تهران</td>\n",
              "      <td>تصاویر بیشتر</td>\n",
              "      <td>این فهرستی از آثار ثبتی شهرستان تهران است.</td>\n",
              "    </tr>\n",
              "    <tr>\n",
              "      <th>2</th>\n",
              "      <td>https://fa.wikipedia.org/wiki/%D9%84%D9%88%D8%...</td>\n",
              "      <td>https://upload.wikimedia.org/wikipedia/commons...</td>\n",
              "      <td>لوتار فون مایر</td>\n",
              "      <td>یولیوس لوتار مایر</td>\n",
              "      <td>یولیوس لوتار فون مایر شیمی‌دان آلمانی هم دورهٔ...</td>\n",
              "    </tr>\n",
              "    <tr>\n",
              "      <th>3</th>\n",
              "      <td>https://fa.wikipedia.org/wiki/%D9%81%DB%8C%D9%...</td>\n",
              "      <td>https://upload.wikimedia.org/wikipedia/commons...</td>\n",
              "      <td>فینال مسابقات باشگاهی قهرمانی آسیا ۱۹۷۰</td>\n",
              "      <td>تماشاگران از ساعت‌ها پیش از آغاز بازی در ورزشگ...</td>\n",
              "      <td>فینال مسابقات باشگاهی قهرمانی آسیا ۱۹۷۰ یک مسا...</td>\n",
              "    </tr>\n",
              "    <tr>\n",
              "      <th>4</th>\n",
              "      <td>https://fa.wikipedia.org/wiki/%D8%B4%DB%8C%D8%...</td>\n",
              "      <td>https://upload.wikimedia.org/wikipedia/commons...</td>\n",
              "      <td>شیء ناشناس پرنده</td>\n",
              "      <td>عکس گرفته‌شده از تصویر احتمالیِ یک بشقاب‌پرنده...</td>\n",
              "      <td>شیءِ ناشناسِ پرنده، که در فارسی به آن بشقاب پر...</td>\n",
              "    </tr>\n",
              "    <tr>\n",
              "      <th>...</th>\n",
              "      <td>...</td>\n",
              "      <td>...</td>\n",
              "      <td>...</td>\n",
              "      <td>...</td>\n",
              "      <td>...</td>\n",
              "    </tr>\n",
              "    <tr>\n",
              "      <th>148065</th>\n",
              "      <td>https://fa.wikipedia.org/wiki/%D9%84%DB%8C%D9%...</td>\n",
              "      <td>https://upload.wikimedia.org/wikipedia/commons...</td>\n",
              "      <td>لیناردو نایتو دی ماکیدو</td>\n",
              "      <td>Netto being presented by Hunan Billows</td>\n",
              "      <td>لیناردو نایتو دی ماکیدو مهاجم اهل برزیل است که...</td>\n",
              "    </tr>\n",
              "    <tr>\n",
              "      <th>148066</th>\n",
              "      <td>https://fa.wikipedia.org/wiki/%D9%BE%D8%B1%DA%...</td>\n",
              "      <td>https://upload.wikimedia.org/wikipedia/commons...</td>\n",
              "      <td>پرچم لهستان</td>\n",
              "      <td>گونه دیگر از پرچم لهستان</td>\n",
              "      <td>پرچم لهستان از دو نوار افقی هم عرض تشکیل شده‌ا...</td>\n",
              "    </tr>\n",
              "    <tr>\n",
              "      <th>148067</th>\n",
              "      <td>https://fa.wikipedia.org/wiki/%D8%B5%D8%A7%D9%...</td>\n",
              "      <td>https://upload.wikimedia.org/wikipedia/commons...</td>\n",
              "      <td>صالح کوتاه</td>\n",
              "      <td>نقشه دیتر امان فرانسوی از اندیکا در سال 1910 (...</td>\n",
              "      <td>صالح کوتاه، روستایی از توابع شهرستان اندیکا در...</td>\n",
              "    </tr>\n",
              "    <tr>\n",
              "      <th>148068</th>\n",
              "      <td>https://fa.wikipedia.org/wiki/%D8%B2%D9%86%D8%...</td>\n",
              "      <td>http://upload.wikimedia.org/wikipedia/commons/...</td>\n",
              "      <td>زنجیره مارکوف</td>\n",
              "      <td>نمونه‌ای از زنجیره مارکوف با سه حالت</td>\n",
              "      <td>زنجیره مارکوف مدلی تصادفی برای توصیف یک توالی ...</td>\n",
              "    </tr>\n",
              "    <tr>\n",
              "      <th>148069</th>\n",
              "      <td>https://fa.wikipedia.org/wiki/%DA%A9%D9%88%D8%...</td>\n",
              "      <td>https://upload.wikimedia.org/wikipedia/commons...</td>\n",
              "      <td>کوررنگی</td>\n",
              "      <td>منحنی نشان‌دهندهٔ میزان تحریک هر کدام از ۳ نوع...</td>\n",
              "      <td>کوررنگی یک بیماری اختلال ارثی است که در آن فرد...</td>\n",
              "    </tr>\n",
              "  </tbody>\n",
              "</table>\n",
              "<p>148070 rows × 5 columns</p>\n",
              "</div>"
            ],
            "text/plain": [
              "                                                 page_url  ...                           context_page_description\n",
              "0       https://fa.wikipedia.org/wiki/%D8%B6%D8%B1%D8%...  ...  ضرابخانه سلطنتی یک نهاد مجاز برای ضرب سکه در ب...\n",
              "1       https://fa.wikipedia.org/wiki/%D9%81%D9%87%D8%...  ...         این فهرستی از آثار ثبتی شهرستان تهران است.\n",
              "2       https://fa.wikipedia.org/wiki/%D9%84%D9%88%D8%...  ...  یولیوس لوتار فون مایر شیمی‌دان آلمانی هم دورهٔ...\n",
              "3       https://fa.wikipedia.org/wiki/%D9%81%DB%8C%D9%...  ...  فینال مسابقات باشگاهی قهرمانی آسیا ۱۹۷۰ یک مسا...\n",
              "4       https://fa.wikipedia.org/wiki/%D8%B4%DB%8C%D8%...  ...  شیءِ ناشناسِ پرنده، که در فارسی به آن بشقاب پر...\n",
              "...                                                   ...  ...                                                ...\n",
              "148065  https://fa.wikipedia.org/wiki/%D9%84%DB%8C%D9%...  ...  لیناردو نایتو دی ماکیدو مهاجم اهل برزیل است که...\n",
              "148066  https://fa.wikipedia.org/wiki/%D9%BE%D8%B1%DA%...  ...  پرچم لهستان از دو نوار افقی هم عرض تشکیل شده‌ا...\n",
              "148067  https://fa.wikipedia.org/wiki/%D8%B5%D8%A7%D9%...  ...  صالح کوتاه، روستایی از توابع شهرستان اندیکا در...\n",
              "148068  https://fa.wikipedia.org/wiki/%D8%B2%D9%86%D8%...  ...  زنجیره مارکوف مدلی تصادفی برای توصیف یک توالی ...\n",
              "148069  https://fa.wikipedia.org/wiki/%DA%A9%D9%88%D8%...  ...  کوررنگی یک بیماری اختلال ارثی است که در آن فرد...\n",
              "\n",
              "[148070 rows x 5 columns]"
            ]
          },
          "metadata": {},
          "execution_count": 3
        }
      ]
    },
    {
      "cell_type": "code",
      "source": [
        "!pip -q install hazm\n",
        "!pip -q install clean-text[gpl]\n",
        "\n",
        "\n",
        "from hazm import Normalizer\n",
        "from hazm import WordTokenizer\n",
        "from cleantext import clean\n",
        "import re\n",
        "\n",
        "tokenizer = WordTokenizer()\n",
        "normalizer = Normalizer()\n",
        "\n",
        "def cleaning(x):\n",
        "    # clean html, css, js\n",
        "    x = re.sub(re.compile('<.*?>'), '', x)\n",
        "    x = re.compile(\n",
        "        '<\\s*style[^>]*>.*?<\\s*/\\s*style\\s*>', re.S | re.I).sub('', x)\n",
        "    x = re.compile(\n",
        "        '<\\s*script[^>]*>.*?<\\s*/\\s*script\\s*>', re.S | re.I).sub('', x)\n",
        "    # # regular cleaning\n",
        "    x = clean(x,\n",
        "              fix_unicode=True,\n",
        "              to_ascii=False,\n",
        "              lower=True,\n",
        "              no_line_breaks=True,\n",
        "              no_urls=True,\n",
        "              no_emails=True,\n",
        "              no_phone_numbers=True,\n",
        "              no_numbers=False,\n",
        "              no_digits=False,\n",
        "              no_currency_symbols=True,\n",
        "              no_punct=False,\n",
        "              replace_with_url=\" \",\n",
        "              replace_with_email=\" \",\n",
        "              replace_with_phone_number=\" \",\n",
        "              replace_with_number=\" \",\n",
        "              replace_with_digit=\"\",\n",
        "              replace_with_currency_symbol=\" \",\n",
        "              )\n",
        "\n",
        "    x = normalizer.normalize(x)\n",
        "    # removing wierd patterns\n",
        "    wierd_pattern = re.compile(\"[\"\n",
        "                               u\"\\U0001F600-\\U0001F64F\"  # emoticons\n",
        "                               u\"\\U0001F300-\\U0001F5FF\"  # symbols & pictographs\n",
        "                               u\"\\U0001F680-\\U0001F6FF\"  # transport & map symbols\n",
        "                               u\"\\U0001F1E0-\\U0001F1FF\"  # flags (iOS)\n",
        "                               u\"\\U00002702-\\U000027B0\"\n",
        "                               u\"\\U000024C2-\\U0001F251\"\n",
        "                               u\"\\U0001f926-\\U0001f937\"\n",
        "                               u'\\U00010000-\\U0010ffff'\n",
        "                               u\"\\u200d\"\n",
        "                               u\"\\u2640-\\u2642\"\n",
        "                               u\"\\u2600-\\u2B55\"\n",
        "                               u\"\\u23cf\"\n",
        "                               u\"\\u23e9\"\n",
        "                               u\"\\u231a\"\n",
        "                               u\"\\u3030\"\n",
        "                               u\"\\ufe0f\"\n",
        "                               u\"\\u2069\"\n",
        "                               u\"\\u2066\"\n",
        "                               u\"\\u2068\"\n",
        "                               u\"\\u2067\"\n",
        "                               # u\"\\u200c\"  # half space\n",
        "                               \"]+\", flags=re.UNICODE)\n",
        "\n",
        "    x = wierd_pattern.sub(r'', x)\n",
        "    # remove #\n",
        "    x = re.sub(\"#\", \" \", x)\n",
        "    # remove @\n",
        "    x = re.sub(\"@\", \" \", x)\n",
        "    # remove extra space\n",
        "    x = re.sub(\"\\s+\", \" \", x)\n",
        "    return x.strip()\n",
        "\n",
        "def text_preprocessor(texts):\n",
        "  cleaned = []\n",
        "  for t in texts:\n",
        "    tokens = tokenizer.tokenize(cleaning(normalizer.normalize(t)))\n",
        "    cleaned.append(' '.join(tokens))\n",
        "  return cleaned"
      ],
      "metadata": {
        "id": "7eBcFLhEZe1u",
        "colab": {
          "base_uri": "https://localhost:8080/"
        },
        "outputId": "ba2fb491-1248-4e3b-b74b-423e10098e17"
      },
      "execution_count": null,
      "outputs": [
        {
          "output_type": "stream",
          "name": "stdout",
          "text": [
            "\u001b[K     |████████████████████████████████| 316 kB 9.6 MB/s \n",
            "\u001b[K     |████████████████████████████████| 233 kB 56.7 MB/s \n",
            "\u001b[K     |████████████████████████████████| 1.4 MB 46.6 MB/s \n",
            "\u001b[?25h  Building wheel for nltk (setup.py) ... \u001b[?25l\u001b[?25hdone\n",
            "  Building wheel for libwapiti (setup.py) ... \u001b[?25l\u001b[?25hdone\n",
            "\u001b[K     |████████████████████████████████| 170 kB 9.9 MB/s \n",
            "\u001b[K     |████████████████████████████████| 64 kB 3.1 MB/s \n",
            "\u001b[K     |████████████████████████████████| 235 kB 59.9 MB/s \n",
            "\u001b[?25h  Building wheel for ftfy (setup.py) ... \u001b[?25l\u001b[?25hdone\n",
            "  Building wheel for emoji (setup.py) ... \u001b[?25l\u001b[?25hdone\n"
          ]
        }
      ]
    },
    {
      "cell_type": "code",
      "source": [
        "cleaned_captions = text_preprocessor(df.caption_reference_description.values)"
      ],
      "metadata": {
        "id": "5rrPTP_FZetB"
      },
      "execution_count": null,
      "outputs": []
    },
    {
      "cell_type": "code",
      "source": [
        "cleaned_titles = text_preprocessor(df.page_title.values)"
      ],
      "metadata": {
        "id": "2hOZTzOrayQe"
      },
      "execution_count": null,
      "outputs": []
    },
    {
      "cell_type": "code",
      "source": [
        "len(cleaned_captions), len(cleaned_titles)"
      ],
      "metadata": {
        "colab": {
          "base_uri": "https://localhost:8080/"
        },
        "id": "BbISmmpLbEMl",
        "outputId": "36b9d03d-e1d7-4574-93cd-d3354b37a3ab"
      },
      "execution_count": null,
      "outputs": [
        {
          "output_type": "execute_result",
          "data": {
            "text/plain": [
              "(148070, 148070)"
            ]
          },
          "metadata": {},
          "execution_count": 53
        }
      ]
    },
    {
      "cell_type": "code",
      "source": [
        "np.unique(df.caption_reference_description == cleaned_captions)"
      ],
      "metadata": {
        "colab": {
          "base_uri": "https://localhost:8080/"
        },
        "id": "b3uCNaE-bLrW",
        "outputId": "c822e2a4-85e6-4926-9939-5c5618d57870"
      },
      "execution_count": null,
      "outputs": [
        {
          "output_type": "execute_result",
          "data": {
            "text/plain": [
              "array([ True])"
            ]
          },
          "metadata": {},
          "execution_count": 57
        }
      ]
    },
    {
      "cell_type": "code",
      "source": [
        "df.page_title = cleaned_titles\n",
        "np.unique(df.page_title == cleaned_titles)"
      ],
      "metadata": {
        "colab": {
          "base_uri": "https://localhost:8080/"
        },
        "id": "FphhYQdybeLb",
        "outputId": "c51b65b0-0721-4240-b102-2ad57c3455be"
      },
      "execution_count": null,
      "outputs": [
        {
          "output_type": "execute_result",
          "data": {
            "text/plain": [
              "array([ True])"
            ]
          },
          "metadata": {},
          "execution_count": 59
        }
      ]
    },
    {
      "cell_type": "code",
      "source": [
        "include_en = df.loc[df['caption_reference_description'].str.contains('[A-Za-z]', regex=True)].index\n",
        "df.loc[include_en, 'caption_reference_description'] = df.loc[include_en, 'page_title']"
      ],
      "metadata": {
        "id": "lKgjmiyrMM2H"
      },
      "execution_count": null,
      "outputs": []
    },
    {
      "cell_type": "code",
      "source": [
        "df.drop(df.loc[df['caption_reference_description'].str.contains('[A-Za-z]', regex=True)].index, axis=0, inplace=True)"
      ],
      "metadata": {
        "id": "Wfh9i-OVMMvS"
      },
      "execution_count": null,
      "outputs": []
    },
    {
      "cell_type": "code",
      "source": [
        "df.info()"
      ],
      "metadata": {
        "colab": {
          "base_uri": "https://localhost:8080/"
        },
        "id": "Jr5tSlaaMMo0",
        "outputId": "e3c52cb9-57b6-4296-bab5-e88f745a9103"
      },
      "execution_count": null,
      "outputs": [
        {
          "output_type": "stream",
          "name": "stdout",
          "text": [
            "<class 'pandas.core.frame.DataFrame'>\n",
            "Int64Index: 147887 entries, 0 to 148069\n",
            "Data columns (total 5 columns):\n",
            " #   Column                         Non-Null Count   Dtype \n",
            "---  ------                         --------------   ----- \n",
            " 0   page_url                       147887 non-null  object\n",
            " 1   image_url                      147887 non-null  object\n",
            " 2   page_title                     147887 non-null  object\n",
            " 3   caption_reference_description  147887 non-null  object\n",
            " 4   context_page_description       147887 non-null  object\n",
            "dtypes: object(5)\n",
            "memory usage: 6.8+ MB\n"
          ]
        }
      ]
    },
    {
      "cell_type": "code",
      "source": [
        "df.loc[df['caption_reference_description'].str.contains('[A-Za-z]', regex=True)]"
      ],
      "metadata": {
        "colab": {
          "base_uri": "https://localhost:8080/",
          "height": 49
        },
        "id": "sCmWN8NyMMgj",
        "outputId": "c85c02f4-bb39-445d-ac06-8fc130081cc8"
      },
      "execution_count": null,
      "outputs": [
        {
          "output_type": "execute_result",
          "data": {
            "text/html": [
              "<div>\n",
              "<style scoped>\n",
              "    .dataframe tbody tr th:only-of-type {\n",
              "        vertical-align: middle;\n",
              "    }\n",
              "\n",
              "    .dataframe tbody tr th {\n",
              "        vertical-align: top;\n",
              "    }\n",
              "\n",
              "    .dataframe thead th {\n",
              "        text-align: right;\n",
              "    }\n",
              "</style>\n",
              "<table border=\"1\" class=\"dataframe\">\n",
              "  <thead>\n",
              "    <tr style=\"text-align: right;\">\n",
              "      <th></th>\n",
              "      <th>page_url</th>\n",
              "      <th>image_url</th>\n",
              "      <th>page_title</th>\n",
              "      <th>caption_reference_description</th>\n",
              "      <th>context_page_description</th>\n",
              "    </tr>\n",
              "  </thead>\n",
              "  <tbody>\n",
              "  </tbody>\n",
              "</table>\n",
              "</div>"
            ],
            "text/plain": [
              "Empty DataFrame\n",
              "Columns: [page_url, image_url, page_title, caption_reference_description, context_page_description]\n",
              "Index: []"
            ]
          },
          "metadata": {},
          "execution_count": 65
        }
      ]
    },
    {
      "cell_type": "code",
      "source": [
        "df.drop(['page_url', 'context_page_description'], axis=1, inplace=True)"
      ],
      "metadata": {
        "id": "5niKeSC3ZDX3"
      },
      "execution_count": null,
      "outputs": []
    },
    {
      "cell_type": "code",
      "source": [
        "df.to_csv('/content/drive/MyDrive/wikiPedia_ic/wiki_fa_cap_cleaned.csv', index=False)"
      ],
      "metadata": {
        "id": "GI-Qf6_cb28q"
      },
      "execution_count": null,
      "outputs": []
    },
    {
      "cell_type": "markdown",
      "source": [
        "#### Fix data formats"
      ],
      "metadata": {
        "id": "9-blxmJxai0V"
      }
    },
    {
      "cell_type": "markdown",
      "source": [
        "* .svg, .gifs dropped ✔\n",
        "* Convert to jpg func. defined ✔\n",
        "* Download all images with `lowercase` postfix characters ✔"
      ],
      "metadata": {
        "id": "fRaq02jQW4Ra"
      }
    },
    {
      "cell_type": "code",
      "source": [
        "cleaned_df = pd.read_csv(\"/content/drive/MyDrive/wikiPedia_ic/wiki_fa_cap_cleaned.csv\")"
      ],
      "metadata": {
        "id": "AQRRt7JBaix4"
      },
      "execution_count": null,
      "outputs": []
    },
    {
      "cell_type": "code",
      "source": [
        "cleaned_df"
      ],
      "metadata": {
        "colab": {
          "base_uri": "https://localhost:8080/",
          "height": 424
        },
        "id": "P88YF3gUaiup",
        "outputId": "a4de5cbf-5786-43a4-c089-c5bfa7ffaabc"
      },
      "execution_count": null,
      "outputs": [
        {
          "output_type": "execute_result",
          "data": {
            "text/html": [
              "<div>\n",
              "<style scoped>\n",
              "    .dataframe tbody tr th:only-of-type {\n",
              "        vertical-align: middle;\n",
              "    }\n",
              "\n",
              "    .dataframe tbody tr th {\n",
              "        vertical-align: top;\n",
              "    }\n",
              "\n",
              "    .dataframe thead th {\n",
              "        text-align: right;\n",
              "    }\n",
              "</style>\n",
              "<table border=\"1\" class=\"dataframe\">\n",
              "  <thead>\n",
              "    <tr style=\"text-align: right;\">\n",
              "      <th></th>\n",
              "      <th>image_url</th>\n",
              "      <th>page_title</th>\n",
              "      <th>caption_reference_description</th>\n",
              "    </tr>\n",
              "  </thead>\n",
              "  <tbody>\n",
              "    <tr>\n",
              "      <th>0</th>\n",
              "      <td>https://upload.wikimedia.org/wikipedia/commons...</td>\n",
              "      <td>ضرابخانه سلطنتی</td>\n",
              "      <td>ساختمان ضرابخانه سلطنتی از ۱۸۸۰</td>\n",
              "    </tr>\n",
              "    <tr>\n",
              "      <th>1</th>\n",
              "      <td>https://upload.wikimedia.org/wikipedia/commons...</td>\n",
              "      <td>فهرست آثار ملی شهرستان تهران</td>\n",
              "      <td>تصاویر بیشتر</td>\n",
              "    </tr>\n",
              "    <tr>\n",
              "      <th>2</th>\n",
              "      <td>https://upload.wikimedia.org/wikipedia/commons...</td>\n",
              "      <td>لوتار فون مایر</td>\n",
              "      <td>یولیوس لوتار مایر</td>\n",
              "    </tr>\n",
              "    <tr>\n",
              "      <th>3</th>\n",
              "      <td>https://upload.wikimedia.org/wikipedia/commons...</td>\n",
              "      <td>فینال مسابقات باشگاهی قهرمانی آسیا ۱۹۷۰</td>\n",
              "      <td>تماشاگران از ساعت‌ها پیش از آغاز بازی در ورزشگ...</td>\n",
              "    </tr>\n",
              "    <tr>\n",
              "      <th>4</th>\n",
              "      <td>https://upload.wikimedia.org/wikipedia/commons...</td>\n",
              "      <td>شیء ناشناس پرنده</td>\n",
              "      <td>عکس گرفته‌شده از تصویر احتمالی یک بشقاب‌پرنده ...</td>\n",
              "    </tr>\n",
              "    <tr>\n",
              "      <th>...</th>\n",
              "      <td>...</td>\n",
              "      <td>...</td>\n",
              "      <td>...</td>\n",
              "    </tr>\n",
              "    <tr>\n",
              "      <th>147882</th>\n",
              "      <td>https://upload.wikimedia.org/wikipedia/commons...</td>\n",
              "      <td>لیناردو نایتو دی ماکیدو</td>\n",
              "      <td>لیناردو نایتو دی ماکیدو</td>\n",
              "    </tr>\n",
              "    <tr>\n",
              "      <th>147883</th>\n",
              "      <td>https://upload.wikimedia.org/wikipedia/commons...</td>\n",
              "      <td>پرچم لهستان</td>\n",
              "      <td>گونه دیگر از پرچم لهستان</td>\n",
              "    </tr>\n",
              "    <tr>\n",
              "      <th>147884</th>\n",
              "      <td>https://upload.wikimedia.org/wikipedia/commons...</td>\n",
              "      <td>صالح کوتاه</td>\n",
              "      <td>نقشه دیتر امان فرانسوی از اندیکا در سال ۱۹۱۰ (...</td>\n",
              "    </tr>\n",
              "    <tr>\n",
              "      <th>147885</th>\n",
              "      <td>http://upload.wikimedia.org/wikipedia/commons/...</td>\n",
              "      <td>زنجیره مارکوف</td>\n",
              "      <td>نمونه‌ای از زنجیره مارکوف با سه حالت</td>\n",
              "    </tr>\n",
              "    <tr>\n",
              "      <th>147886</th>\n",
              "      <td>https://upload.wikimedia.org/wikipedia/commons...</td>\n",
              "      <td>کوررنگی</td>\n",
              "      <td>منحنی نشان‌دهندهٔ میزان تحریک هر کدام از ۳ نوع...</td>\n",
              "    </tr>\n",
              "  </tbody>\n",
              "</table>\n",
              "<p>147887 rows × 3 columns</p>\n",
              "</div>"
            ],
            "text/plain": [
              "                                                image_url  ...                      caption_reference_description\n",
              "0       https://upload.wikimedia.org/wikipedia/commons...  ...                    ساختمان ضرابخانه سلطنتی از ۱۸۸۰\n",
              "1       https://upload.wikimedia.org/wikipedia/commons...  ...                                       تصاویر بیشتر\n",
              "2       https://upload.wikimedia.org/wikipedia/commons...  ...                                  یولیوس لوتار مایر\n",
              "3       https://upload.wikimedia.org/wikipedia/commons...  ...  تماشاگران از ساعت‌ها پیش از آغاز بازی در ورزشگ...\n",
              "4       https://upload.wikimedia.org/wikipedia/commons...  ...  عکس گرفته‌شده از تصویر احتمالی یک بشقاب‌پرنده ...\n",
              "...                                                   ...  ...                                                ...\n",
              "147882  https://upload.wikimedia.org/wikipedia/commons...  ...                            لیناردو نایتو دی ماکیدو\n",
              "147883  https://upload.wikimedia.org/wikipedia/commons...  ...                           گونه دیگر از پرچم لهستان\n",
              "147884  https://upload.wikimedia.org/wikipedia/commons...  ...  نقشه دیتر امان فرانسوی از اندیکا در سال ۱۹۱۰ (...\n",
              "147885  http://upload.wikimedia.org/wikipedia/commons/...  ...               نمونه‌ای از زنجیره مارکوف با سه حالت\n",
              "147886  https://upload.wikimedia.org/wikipedia/commons...  ...  منحنی نشان‌دهندهٔ میزان تحریک هر کدام از ۳ نوع...\n",
              "\n",
              "[147887 rows x 3 columns]"
            ]
          },
          "metadata": {},
          "execution_count": 3
        }
      ]
    },
    {
      "cell_type": "code",
      "source": [
        "postfixes = []\n",
        "for i in cleaned_df['image_url'].str.split('.'):\n",
        "  postfixes.append(i[-1])"
      ],
      "metadata": {
        "id": "ugBdG_F0air0"
      },
      "execution_count": null,
      "outputs": []
    },
    {
      "cell_type": "code",
      "source": [
        "postfixes.count('webp')"
      ],
      "metadata": {
        "colab": {
          "base_uri": "https://localhost:8080/"
        },
        "id": "rwevwkzuUROz",
        "outputId": "819436ee-3dc7-412a-d8bb-c740620159b8"
      },
      "execution_count": null,
      "outputs": [
        {
          "output_type": "execute_result",
          "data": {
            "text/plain": [
              "8"
            ]
          },
          "metadata": {},
          "execution_count": 76
        }
      ]
    },
    {
      "cell_type": "code",
      "source": [
        "postfixes.count('SVG')"
      ],
      "metadata": {
        "colab": {
          "base_uri": "https://localhost:8080/"
        },
        "id": "tPfEl8imcFOB",
        "outputId": "22c9c98d-f696-41bc-a139-c63aed7f3909"
      },
      "execution_count": null,
      "outputs": [
        {
          "output_type": "execute_result",
          "data": {
            "text/plain": [
              "12"
            ]
          },
          "metadata": {},
          "execution_count": 66
        }
      ]
    },
    {
      "cell_type": "code",
      "source": [
        "postfixes.count('Gif')"
      ],
      "metadata": {
        "colab": {
          "base_uri": "https://localhost:8080/"
        },
        "id": "R9JY5wArcHRR",
        "outputId": "7f45f02f-1861-41af-f113-b0afa66f7972"
      },
      "execution_count": null,
      "outputs": [
        {
          "output_type": "execute_result",
          "data": {
            "text/plain": [
              "1"
            ]
          },
          "metadata": {},
          "execution_count": 18
        }
      ]
    },
    {
      "cell_type": "code",
      "source": [
        "np.unique(postfixes)"
      ],
      "metadata": {
        "colab": {
          "base_uri": "https://localhost:8080/"
        },
        "id": "97OsquifoMiB",
        "outputId": "b8ffa757-caee-45f7-8ae1-345893f006ac"
      },
      "execution_count": null,
      "outputs": [
        {
          "output_type": "execute_result",
          "data": {
            "text/plain": [
              "array(['GIF', 'Gif', 'JPEG', 'JPG', 'Jpeg', 'Jpg', 'PNG', 'SVG', 'gif',\n",
              "       'jpeg', 'jpg', 'png', 'svg', 'webp'], dtype='<U4')"
            ]
          },
          "metadata": {},
          "execution_count": 5
        }
      ]
    },
    {
      "cell_type": "code",
      "source": [
        "cleaned_df[cleaned_df['image_url'].str.endswith('.webp')].index"
      ],
      "metadata": {
        "colab": {
          "base_uri": "https://localhost:8080/"
        },
        "id": "_aQvFZVVbkRS",
        "outputId": "28497099-d837-42d6-8aad-74dbc44c5725"
      },
      "execution_count": null,
      "outputs": [
        {
          "output_type": "execute_result",
          "data": {
            "text/plain": [
              "Int64Index([6631, 21081, 25785, 35865, 95851, 99360, 109005, 144367], dtype='int64')"
            ]
          },
          "metadata": {},
          "execution_count": 77
        }
      ]
    },
    {
      "cell_type": "code",
      "source": [
        "# Drop Gifs with .gif, .GIF, .Gif formats\n",
        "cleaned_df.drop(cleaned_df[cleaned_df['image_url'].str.endswith('.Gif')].index, axis=0, inplace=True)"
      ],
      "metadata": {
        "id": "r4fvWKGsoMZa"
      },
      "execution_count": null,
      "outputs": []
    },
    {
      "cell_type": "code",
      "source": [
        "# Drop SVGs formats .svg, .SVG\n",
        "cleaned_df.drop(cleaned_df[cleaned_df['image_url'].str.endswith('.SVG')].index, axis=0, inplace=True)"
      ],
      "metadata": {
        "id": "yQH6_L5KuuNg"
      },
      "execution_count": null,
      "outputs": []
    },
    {
      "cell_type": "code",
      "source": [
        "cleaned_df.shape"
      ],
      "metadata": {
        "colab": {
          "base_uri": "https://localhost:8080/"
        },
        "id": "zwX1NHSYcARg",
        "outputId": "5341d5c2-0476-4c39-88a4-58cbe598a56b"
      },
      "execution_count": null,
      "outputs": [
        {
          "output_type": "execute_result",
          "data": {
            "text/plain": [
              "(137170, 3)"
            ]
          },
          "metadata": {},
          "execution_count": 73
        }
      ]
    },
    {
      "cell_type": "code",
      "source": [
        "p2 = []\n",
        "for i in cleaned_df['image_url'].str.split('.'):\n",
        "  p2.append(i[-1])"
      ],
      "metadata": {
        "id": "d72sB4uTvWH2"
      },
      "execution_count": null,
      "outputs": []
    },
    {
      "cell_type": "code",
      "source": [
        "np.unique(p2)"
      ],
      "metadata": {
        "colab": {
          "base_uri": "https://localhost:8080/"
        },
        "id": "KK9HRhL2vYac",
        "outputId": "d2480724-aa0b-4961-b2a8-255bab3500fb"
      },
      "execution_count": null,
      "outputs": [
        {
          "output_type": "execute_result",
          "data": {
            "text/plain": [
              "array(['JPEG', 'JPG', 'Jpeg', 'Jpg', 'PNG', 'jpeg', 'jpg', 'png', 'webp'],\n",
              "      dtype='<U4')"
            ]
          },
          "metadata": {},
          "execution_count": 75
        }
      ]
    },
    {
      "cell_type": "code",
      "source": [
        "cleaned_df.to_csv(\"/content/drive/MyDrive/wikiPedia_ic/wiki_fa_cap_cleaned.csv\", index=False)"
      ],
      "metadata": {
        "id": "cYch8vjN-a97"
      },
      "execution_count": null,
      "outputs": []
    },
    {
      "cell_type": "markdown",
      "source": [
        "#### Convert to jpg"
      ],
      "metadata": {
        "id": "Q5lujJazdk8Q"
      }
    },
    {
      "cell_type": "code",
      "source": [
        "df = pd.read_csv(\"/content/drive/MyDrive/wikiPedia_ic/wiki_fa_cap_cleaned.csv\")\n",
        "df"
      ],
      "metadata": {
        "colab": {
          "base_uri": "https://localhost:8080/",
          "height": 424
        },
        "id": "PJYLtjJP-xfC",
        "outputId": "82736fa5-41b9-426a-f9a8-3f7898b10fb3"
      },
      "execution_count": null,
      "outputs": [
        {
          "output_type": "execute_result",
          "data": {
            "text/html": [
              "<div>\n",
              "<style scoped>\n",
              "    .dataframe tbody tr th:only-of-type {\n",
              "        vertical-align: middle;\n",
              "    }\n",
              "\n",
              "    .dataframe tbody tr th {\n",
              "        vertical-align: top;\n",
              "    }\n",
              "\n",
              "    .dataframe thead th {\n",
              "        text-align: right;\n",
              "    }\n",
              "</style>\n",
              "<table border=\"1\" class=\"dataframe\">\n",
              "  <thead>\n",
              "    <tr style=\"text-align: right;\">\n",
              "      <th></th>\n",
              "      <th>image_url</th>\n",
              "      <th>page_title</th>\n",
              "      <th>caption_reference_description</th>\n",
              "    </tr>\n",
              "  </thead>\n",
              "  <tbody>\n",
              "    <tr>\n",
              "      <th>0</th>\n",
              "      <td>https://upload.wikimedia.org/wikipedia/commons...</td>\n",
              "      <td>ضرابخانه سلطنتی</td>\n",
              "      <td>ساختمان ضرابخانه سلطنتی از ۱۸۸۰</td>\n",
              "    </tr>\n",
              "    <tr>\n",
              "      <th>1</th>\n",
              "      <td>https://upload.wikimedia.org/wikipedia/commons...</td>\n",
              "      <td>فهرست آثار ملی شهرستان تهران</td>\n",
              "      <td>تصاویر بیشتر</td>\n",
              "    </tr>\n",
              "    <tr>\n",
              "      <th>2</th>\n",
              "      <td>https://upload.wikimedia.org/wikipedia/commons...</td>\n",
              "      <td>لوتار فون مایر</td>\n",
              "      <td>یولیوس لوتار مایر</td>\n",
              "    </tr>\n",
              "    <tr>\n",
              "      <th>3</th>\n",
              "      <td>https://upload.wikimedia.org/wikipedia/commons...</td>\n",
              "      <td>فینال مسابقات باشگاهی قهرمانی آسیا ۱۹۷۰</td>\n",
              "      <td>تماشاگران از ساعت‌ها پیش از آغاز بازی در ورزشگ...</td>\n",
              "    </tr>\n",
              "    <tr>\n",
              "      <th>4</th>\n",
              "      <td>https://upload.wikimedia.org/wikipedia/commons...</td>\n",
              "      <td>شیء ناشناس پرنده</td>\n",
              "      <td>عکس گرفته‌شده از تصویر احتمالی یک بشقاب‌پرنده ...</td>\n",
              "    </tr>\n",
              "    <tr>\n",
              "      <th>...</th>\n",
              "      <td>...</td>\n",
              "      <td>...</td>\n",
              "      <td>...</td>\n",
              "    </tr>\n",
              "    <tr>\n",
              "      <th>137165</th>\n",
              "      <td>https://upload.wikimedia.org/wikipedia/commons...</td>\n",
              "      <td>کوزره</td>\n",
              "      <td>باغ انگور در روستای کوزره</td>\n",
              "    </tr>\n",
              "    <tr>\n",
              "      <th>137166</th>\n",
              "      <td>http://upload.wikimedia.org/wikipedia/commons/...</td>\n",
              "      <td>خیابان بریک‌لین</td>\n",
              "      <td>برخی از رستوران‌های خیابان بریک‌لین .</td>\n",
              "    </tr>\n",
              "    <tr>\n",
              "      <th>137167</th>\n",
              "      <td>https://upload.wikimedia.org/wikipedia/commons...</td>\n",
              "      <td>لیناردو نایتو دی ماکیدو</td>\n",
              "      <td>لیناردو نایتو دی ماکیدو</td>\n",
              "    </tr>\n",
              "    <tr>\n",
              "      <th>137168</th>\n",
              "      <td>https://upload.wikimedia.org/wikipedia/commons...</td>\n",
              "      <td>صالح کوتاه</td>\n",
              "      <td>نقشه دیتر امان فرانسوی از اندیکا در سال ۱۹۱۰ (...</td>\n",
              "    </tr>\n",
              "    <tr>\n",
              "      <th>137169</th>\n",
              "      <td>https://upload.wikimedia.org/wikipedia/commons...</td>\n",
              "      <td>کوررنگی</td>\n",
              "      <td>منحنی نشان‌دهندهٔ میزان تحریک هر کدام از ۳ نوع...</td>\n",
              "    </tr>\n",
              "  </tbody>\n",
              "</table>\n",
              "<p>137170 rows × 3 columns</p>\n",
              "</div>"
            ],
            "text/plain": [
              "                                                image_url  ...                      caption_reference_description\n",
              "0       https://upload.wikimedia.org/wikipedia/commons...  ...                    ساختمان ضرابخانه سلطنتی از ۱۸۸۰\n",
              "1       https://upload.wikimedia.org/wikipedia/commons...  ...                                       تصاویر بیشتر\n",
              "2       https://upload.wikimedia.org/wikipedia/commons...  ...                                  یولیوس لوتار مایر\n",
              "3       https://upload.wikimedia.org/wikipedia/commons...  ...  تماشاگران از ساعت‌ها پیش از آغاز بازی در ورزشگ...\n",
              "4       https://upload.wikimedia.org/wikipedia/commons...  ...  عکس گرفته‌شده از تصویر احتمالی یک بشقاب‌پرنده ...\n",
              "...                                                   ...  ...                                                ...\n",
              "137165  https://upload.wikimedia.org/wikipedia/commons...  ...                          باغ انگور در روستای کوزره\n",
              "137166  http://upload.wikimedia.org/wikipedia/commons/...  ...              برخی از رستوران‌های خیابان بریک‌لین .\n",
              "137167  https://upload.wikimedia.org/wikipedia/commons...  ...                            لیناردو نایتو دی ماکیدو\n",
              "137168  https://upload.wikimedia.org/wikipedia/commons...  ...  نقشه دیتر امان فرانسوی از اندیکا در سال ۱۹۱۰ (...\n",
              "137169  https://upload.wikimedia.org/wikipedia/commons...  ...  منحنی نشان‌دهندهٔ میزان تحریک هر کدام از ۳ نوع...\n",
              "\n",
              "[137170 rows x 3 columns]"
            ]
          },
          "metadata": {},
          "execution_count": 168
        }
      ]
    },
    {
      "cell_type": "code",
      "source": [
        "def convertToJpg(parent_dir, fname):\n",
        "    \"\"\"\n",
        "    Convert png, webp, jpeg to .jpg\n",
        "    \"\"\"\n",
        "    im = Image.open(parent_dir + fname)\n",
        "    rgb_im = im.convert('RGB')\n",
        "    postfix = fname.split('.')[-1]\n",
        "    c_fname = fname.replace(postfix, 'jpg') # filename with .jpg postfix\n",
        "    rgb_im.save(parent_dir + c_fname)\n",
        "    os.remove(parent_dir + fname) # delete original image.\n",
        "    print(f'{c_fname} ............converted to jpg.')\n",
        "    return c_fname"
      ],
      "metadata": {
        "id": "1p6wXncQoMJy"
      },
      "execution_count": null,
      "outputs": []
    },
    {
      "cell_type": "markdown",
      "source": [
        "## Download images"
      ],
      "metadata": {
        "id": "YqUlTiPwZDOE"
      }
    },
    {
      "cell_type": "code",
      "metadata": {
        "id": "pggBNTuH0NCt"
      },
      "source": [
        "def downloadImage(url, parent_dir, filename):\n",
        "  \"\"\"\n",
        "  Given a url and filename, it'll download image and save it into path/{passed filename}.\n",
        "  \"\"\"\n",
        "\n",
        "  opener = urllib.request.build_opener()\n",
        "  opener.addheaders = [('User-Agent','Mozilla/5.0 (Windows NT 6.1; WOW64) AppleWebKit/537.36 (KHTML, like Gecko) Chrome/36.0.1941.0 Safari/537.36')]\n",
        "  urllib.request.install_opener(opener)\n",
        "\n",
        "  try:\n",
        "    postfix = url.split('.')[-1].lower()\n",
        "    filename = str(filename) + '.' + postfix\n",
        "    urllib.request.urlretrieve(url, parent_dir + filename)\n",
        "    print(f\"{filename} .............Downloaded!\")\n",
        "    status = True\n",
        "    return status, filename\n",
        "  except Exception as e:\n",
        "    status = False\n",
        "    print(e)\n",
        "    return status, np.nan"
      ],
      "execution_count": null,
      "outputs": []
    },
    {
      "cell_type": "code",
      "source": [
        "def download(urls, path):\n",
        "  for idx in range(len(urls)):\n",
        "    # Dowload url and save status:(True / False)\n",
        "      isDownloaded, dn_fname = downloadImage(urls[idx], parent_dir=path, filename=str(idx))\n",
        "      # check if file downloaded correctly and its format isn't jpg:\n",
        "      if isDownloaded and not dn_fname.endswith('.jpg'):\n",
        "        filename = convertToJpg(parent_dir=path, fname=dn_fname)\n",
        "        df.loc[idx, 'filename'] = filename # append filename to dataset\n",
        "      elif isDownloaded and dn_fname.endswith('.jpg'):\n",
        "        df.loc[idx, 'filename'] = dn_fname # append filename to dataset\n",
        "      else:\n",
        "        df.loc[idx, 'filename'] = dn_fname # append filename to dataset\n",
        "\n",
        "# List of urls retrieved from dataset.\n",
        "urls = list(df['image_url'])\n",
        "print(\"Number of urls : {}\".format(len(urls)))\n",
        "\n",
        "# Directory that images downloaded in.\n",
        "download_here = './wikipedia_images/'\n",
        "\n",
        "download(urls, download_here)"
      ],
      "metadata": {
        "colab": {
          "base_uri": "https://localhost:8080/"
        },
        "id": "CWKqaPxW72_2",
        "outputId": "a7e3a633-2dc3-4b43-e051-afaeeb4460ea"
      },
      "execution_count": null,
      "outputs": [
        {
          "output_type": "stream",
          "name": "stdout",
          "text": [
            "Number of urls : 137170\n"
          ]
        }
      ]
    },
    {
      "cell_type": "code",
      "source": [
        "df.to_csv(\"./wikipedia_facap.csv\", index=False)"
      ],
      "metadata": {
        "id": "-4rcCYXmihFu"
      },
      "execution_count": null,
      "outputs": []
    }
  ]
}